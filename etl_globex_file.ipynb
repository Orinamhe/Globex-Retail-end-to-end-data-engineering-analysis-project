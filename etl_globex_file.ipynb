{
 "cells": [
  {
   "cell_type": "markdown",
   "id": "1085a133",
   "metadata": {},
   "source": [
    "## Data Pipeline Steps\n",
    "1. Data Extraction\n",
    "2. Quality Assessment\n",
    "3. Data cleaning/transformation\n",
    "4. Data Validation (Business)\n",
    "6. Feature Engineering\n",
    "7. Data analysis and visualization\n",
    "8. Data Modelling\n",
    "9. Data Loading"
   ]
  },
  {
   "cell_type": "code",
   "execution_count": null,
   "id": "d8affac2",
   "metadata": {},
   "outputs": [],
   "source": []
  },
  {
   "cell_type": "code",
   "execution_count": 70,
   "id": "f0560c94",
   "metadata": {},
   "outputs": [],
   "source": [
    "#Import necessary libraries\n",
    "\n",
    "import pandas as pd\n",
    "import numpy as np\n",
    "import matplotlib.pyplot as plt\n",
    "import seaborn as sns\n"
   ]
  },
  {
   "cell_type": "markdown",
   "id": "bf236a6a",
   "metadata": {},
   "source": [
    "### Data Extraction"
   ]
  },
  {
   "cell_type": "code",
   "execution_count": 71,
   "id": "2f11fc37",
   "metadata": {},
   "outputs": [
    {
     "data": {
      "text/html": [
       "<div>\n",
       "<style scoped>\n",
       "    .dataframe tbody tr th:only-of-type {\n",
       "        vertical-align: middle;\n",
       "    }\n",
       "\n",
       "    .dataframe tbody tr th {\n",
       "        vertical-align: top;\n",
       "    }\n",
       "\n",
       "    .dataframe thead th {\n",
       "        text-align: right;\n",
       "    }\n",
       "</style>\n",
       "<table border=\"1\" class=\"dataframe\">\n",
       "  <thead>\n",
       "    <tr style=\"text-align: right;\">\n",
       "      <th></th>\n",
       "      <th>Customer_ID</th>\n",
       "      <th>Order_ID</th>\n",
       "      <th>Order_Date</th>\n",
       "      <th>Product_Category</th>\n",
       "      <th>Product_Sub_Category</th>\n",
       "      <th>Quantity</th>\n",
       "      <th>Price</th>\n",
       "      <th>Discount</th>\n",
       "      <th>Customer_Location</th>\n",
       "      <th>Revenue</th>\n",
       "    </tr>\n",
       "  </thead>\n",
       "  <tbody>\n",
       "    <tr>\n",
       "      <th>0</th>\n",
       "      <td>CUST_013738</td>\n",
       "      <td>ORD_00102406</td>\n",
       "      <td>2023-01-01</td>\n",
       "      <td>Home &amp; Garden</td>\n",
       "      <td>Gardening Tools</td>\n",
       "      <td>1</td>\n",
       "      <td>419.19</td>\n",
       "      <td>0.00</td>\n",
       "      <td>TN</td>\n",
       "      <td>419.1900</td>\n",
       "    </tr>\n",
       "    <tr>\n",
       "      <th>1</th>\n",
       "      <td>CUST_011726</td>\n",
       "      <td>ORD_00102902</td>\n",
       "      <td>2023-01-01</td>\n",
       "      <td>Electronics</td>\n",
       "      <td>Laptops</td>\n",
       "      <td>1</td>\n",
       "      <td>222.37</td>\n",
       "      <td>0.09</td>\n",
       "      <td>TN</td>\n",
       "      <td>202.3567</td>\n",
       "    </tr>\n",
       "    <tr>\n",
       "      <th>2</th>\n",
       "      <td>CUST_010891</td>\n",
       "      <td>ORD_00103864</td>\n",
       "      <td>2023-01-01</td>\n",
       "      <td>Electronics</td>\n",
       "      <td>Laptops</td>\n",
       "      <td>6</td>\n",
       "      <td>1107.65</td>\n",
       "      <td>0.00</td>\n",
       "      <td>IN</td>\n",
       "      <td>6645.9000</td>\n",
       "    </tr>\n",
       "    <tr>\n",
       "      <th>3</th>\n",
       "      <td>CUST_011452</td>\n",
       "      <td>ORD_00103560</td>\n",
       "      <td>2023-01-01</td>\n",
       "      <td>Electronics</td>\n",
       "      <td>Gaming Consoles</td>\n",
       "      <td>5</td>\n",
       "      <td>288.84</td>\n",
       "      <td>0.00</td>\n",
       "      <td>MA</td>\n",
       "      <td>1444.2000</td>\n",
       "    </tr>\n",
       "    <tr>\n",
       "      <th>4</th>\n",
       "      <td>CUST_010886</td>\n",
       "      <td>ORD_00100632</td>\n",
       "      <td>2023-01-02</td>\n",
       "      <td>Electronics</td>\n",
       "      <td>Headphones</td>\n",
       "      <td>1</td>\n",
       "      <td>191.27</td>\n",
       "      <td>0.00</td>\n",
       "      <td>AZ</td>\n",
       "      <td>191.2700</td>\n",
       "    </tr>\n",
       "  </tbody>\n",
       "</table>\n",
       "</div>"
      ],
      "text/plain": [
       "   Customer_ID      Order_ID  Order_Date Product_Category  \\\n",
       "0  CUST_013738  ORD_00102406  2023-01-01    Home & Garden   \n",
       "1  CUST_011726  ORD_00102902  2023-01-01      Electronics   \n",
       "2  CUST_010891  ORD_00103864  2023-01-01      Electronics   \n",
       "3  CUST_011452  ORD_00103560  2023-01-01      Electronics   \n",
       "4  CUST_010886  ORD_00100632  2023-01-02      Electronics   \n",
       "\n",
       "  Product_Sub_Category  Quantity    Price  Discount Customer_Location  \\\n",
       "0      Gardening Tools         1   419.19      0.00                TN   \n",
       "1              Laptops         1   222.37      0.09                TN   \n",
       "2              Laptops         6  1107.65      0.00                IN   \n",
       "3      Gaming Consoles         5   288.84      0.00                MA   \n",
       "4           Headphones         1   191.27      0.00                AZ   \n",
       "\n",
       "     Revenue  \n",
       "0   419.1900  \n",
       "1   202.3567  \n",
       "2  6645.9000  \n",
       "3  1444.2000  \n",
       "4   191.2700  "
      ]
     },
     "execution_count": 71,
     "metadata": {},
     "output_type": "execute_result"
    }
   ],
   "source": [
    "# Extracting data from csv file\n",
    "df = pd.read_csv(r\"data\\globex_retail_data.csv\")\n",
    "\n",
    "# Checking the first 5 rows\n",
    "df.head(5)"
   ]
  },
  {
   "cell_type": "code",
   "execution_count": 72,
   "id": "69079973",
   "metadata": {},
   "outputs": [
    {
     "data": {
      "text/plain": [
       "(5000, 10)"
      ]
     },
     "execution_count": 72,
     "metadata": {},
     "output_type": "execute_result"
    }
   ],
   "source": [
    "# Determine the number of rows and columns in the dataframe\n",
    "df.shape"
   ]
  },
  {
   "cell_type": "code",
   "execution_count": 73,
   "id": "fd90f5e8",
   "metadata": {},
   "outputs": [
    {
     "name": "stdout",
     "output_type": "stream",
     "text": [
      "<class 'pandas.core.frame.DataFrame'>\n",
      "RangeIndex: 5000 entries, 0 to 4999\n",
      "Data columns (total 10 columns):\n",
      " #   Column                Non-Null Count  Dtype  \n",
      "---  ------                --------------  -----  \n",
      " 0   Customer_ID           5000 non-null   object \n",
      " 1   Order_ID              5000 non-null   object \n",
      " 2   Order_Date            5000 non-null   object \n",
      " 3   Product_Category      5000 non-null   object \n",
      " 4   Product_Sub_Category  5000 non-null   object \n",
      " 5   Quantity              5000 non-null   int64  \n",
      " 6   Price                 5000 non-null   float64\n",
      " 7   Discount              5000 non-null   float64\n",
      " 8   Customer_Location     5000 non-null   object \n",
      " 9   Revenue               5000 non-null   float64\n",
      "dtypes: float64(3), int64(1), object(6)\n",
      "memory usage: 390.8+ KB\n"
     ]
    }
   ],
   "source": [
    "# Column names, null count and data type\n",
    "df.info()"
   ]
  },
  {
   "cell_type": "markdown",
   "id": "88375950",
   "metadata": {},
   "source": [
    "### Data Quality Assessment"
   ]
  },
  {
   "cell_type": "markdown",
   "id": "dc2bc8b1",
   "metadata": {},
   "source": [
    "##### Completeness - checking for null values"
   ]
  },
  {
   "cell_type": "code",
   "execution_count": 74,
   "id": "4f4f704e",
   "metadata": {},
   "outputs": [
    {
     "data": {
      "text/plain": [
       "Customer_ID             0\n",
       "Order_ID                0\n",
       "Order_Date              0\n",
       "Product_Category        0\n",
       "Product_Sub_Category    0\n",
       "Quantity                0\n",
       "Price                   0\n",
       "Discount                0\n",
       "Customer_Location       0\n",
       "Revenue                 0\n",
       "dtype: int64"
      ]
     },
     "execution_count": 74,
     "metadata": {},
     "output_type": "execute_result"
    }
   ],
   "source": [
    "# checking for null values in the data\n",
    "df.isnull().sum()"
   ]
  },
  {
   "cell_type": "markdown",
   "id": "e5112b0b",
   "metadata": {},
   "source": [
    "##### Uniqueness - checking for duplicates"
   ]
  },
  {
   "cell_type": "code",
   "execution_count": 75,
   "id": "7a11d6fb",
   "metadata": {},
   "outputs": [
    {
     "data": {
      "text/plain": [
       "np.int64(0)"
      ]
     },
     "execution_count": 75,
     "metadata": {},
     "output_type": "execute_result"
    }
   ],
   "source": [
    "df.duplicated().sum() # no duplicate values reported"
   ]
  },
  {
   "cell_type": "code",
   "execution_count": 76,
   "id": "366a3574",
   "metadata": {},
   "outputs": [
    {
     "data": {
      "text/plain": [
       "3203"
      ]
     },
     "execution_count": 76,
     "metadata": {},
     "output_type": "execute_result"
    }
   ],
   "source": [
    "# to check the number of unique values in the customer ID\n",
    "\n",
    "df['Customer_ID'].nunique()\n"
   ]
  },
  {
   "cell_type": "code",
   "execution_count": 77,
   "id": "3ff83517",
   "metadata": {},
   "outputs": [
    {
     "data": {
      "text/plain": [
       "5000"
      ]
     },
     "execution_count": 77,
     "metadata": {},
     "output_type": "execute_result"
    }
   ],
   "source": [
    "# to check the number of unique values in the customer ID\n",
    "\n",
    "df['Order_ID'].nunique()"
   ]
  },
  {
   "cell_type": "markdown",
   "id": "297f5fa6",
   "metadata": {},
   "source": [
    "##### Inconsistency - checking for the values in each column"
   ]
  },
  {
   "cell_type": "code",
   "execution_count": 78,
   "id": "34cb47dc",
   "metadata": {},
   "outputs": [
    {
     "data": {
      "text/html": [
       "<div>\n",
       "<style scoped>\n",
       "    .dataframe tbody tr th:only-of-type {\n",
       "        vertical-align: middle;\n",
       "    }\n",
       "\n",
       "    .dataframe tbody tr th {\n",
       "        vertical-align: top;\n",
       "    }\n",
       "\n",
       "    .dataframe thead th {\n",
       "        text-align: right;\n",
       "    }\n",
       "</style>\n",
       "<table border=\"1\" class=\"dataframe\">\n",
       "  <thead>\n",
       "    <tr style=\"text-align: right;\">\n",
       "      <th></th>\n",
       "      <th>Quantity</th>\n",
       "      <th>Price</th>\n",
       "      <th>Discount</th>\n",
       "      <th>Revenue</th>\n",
       "    </tr>\n",
       "  </thead>\n",
       "  <tbody>\n",
       "    <tr>\n",
       "      <th>count</th>\n",
       "      <td>5000.000000</td>\n",
       "      <td>5000.000000</td>\n",
       "      <td>5000.000000</td>\n",
       "      <td>5000.000000</td>\n",
       "    </tr>\n",
       "    <tr>\n",
       "      <th>mean</th>\n",
       "      <td>2.368800</td>\n",
       "      <td>330.240118</td>\n",
       "      <td>0.063534</td>\n",
       "      <td>743.955115</td>\n",
       "    </tr>\n",
       "    <tr>\n",
       "      <th>std</th>\n",
       "      <td>1.704631</td>\n",
       "      <td>427.081790</td>\n",
       "      <td>0.118311</td>\n",
       "      <td>1328.413944</td>\n",
       "    </tr>\n",
       "    <tr>\n",
       "      <th>min</th>\n",
       "      <td>1.000000</td>\n",
       "      <td>8.000000</td>\n",
       "      <td>0.000000</td>\n",
       "      <td>6.164400</td>\n",
       "    </tr>\n",
       "    <tr>\n",
       "      <th>25%</th>\n",
       "      <td>1.000000</td>\n",
       "      <td>54.017500</td>\n",
       "      <td>0.000000</td>\n",
       "      <td>94.601000</td>\n",
       "    </tr>\n",
       "    <tr>\n",
       "      <th>50%</th>\n",
       "      <td>2.000000</td>\n",
       "      <td>149.770000</td>\n",
       "      <td>0.000000</td>\n",
       "      <td>264.530250</td>\n",
       "    </tr>\n",
       "    <tr>\n",
       "      <th>75%</th>\n",
       "      <td>3.000000</td>\n",
       "      <td>415.087500</td>\n",
       "      <td>0.090000</td>\n",
       "      <td>767.867500</td>\n",
       "    </tr>\n",
       "    <tr>\n",
       "      <th>max</th>\n",
       "      <td>10.000000</td>\n",
       "      <td>1997.860000</td>\n",
       "      <td>0.500000</td>\n",
       "      <td>13819.840000</td>\n",
       "    </tr>\n",
       "  </tbody>\n",
       "</table>\n",
       "</div>"
      ],
      "text/plain": [
       "          Quantity        Price     Discount       Revenue\n",
       "count  5000.000000  5000.000000  5000.000000   5000.000000\n",
       "mean      2.368800   330.240118     0.063534    743.955115\n",
       "std       1.704631   427.081790     0.118311   1328.413944\n",
       "min       1.000000     8.000000     0.000000      6.164400\n",
       "25%       1.000000    54.017500     0.000000     94.601000\n",
       "50%       2.000000   149.770000     0.000000    264.530250\n",
       "75%       3.000000   415.087500     0.090000    767.867500\n",
       "max      10.000000  1997.860000     0.500000  13819.840000"
      ]
     },
     "execution_count": 78,
     "metadata": {},
     "output_type": "execute_result"
    }
   ],
   "source": [
    "# show summary statistics for numerical columns to see the min, max and mean values\n",
    "df.describe()"
   ]
  },
  {
   "cell_type": "code",
   "execution_count": 79,
   "id": "176969ec",
   "metadata": {},
   "outputs": [
    {
     "data": {
      "text/plain": [
       "Product_Category\n",
       "Home & Garden    768\n",
       "Beauty           821\n",
       "Sports           826\n",
       "Clothing         832\n",
       "Books            871\n",
       "Electronics      882\n",
       "Name: count, dtype: int64"
      ]
     },
     "execution_count": 79,
     "metadata": {},
     "output_type": "execute_result"
    }
   ],
   "source": [
    "# check for values in the category column to ensure consistency\n",
    "df.Product_Category.value_counts().sort_values(ascending=True)"
   ]
  },
  {
   "cell_type": "code",
   "execution_count": 80,
   "id": "81b58e84",
   "metadata": {},
   "outputs": [
    {
     "data": {
      "text/plain": [
       "Product_Sub_Category\n",
       "Kitchen Appliances    120\n",
       "Makeup                121\n",
       "Bedding               125\n",
       "Storage               125\n",
       "Outdoor Gear          127\n",
       "Furniture             130\n",
       "Shoes                 130\n",
       "Headphones            132\n",
       "Home Decor            132\n",
       "Hair Care             133\n",
       "Jeans                 133\n",
       "Team Sports           133\n",
       "Accessories           134\n",
       "Educational           135\n",
       "Laptops               136\n",
       "Gardening Tools       136\n",
       "Water Sports          136\n",
       "Mens Shirts           136\n",
       "Personal Care         137\n",
       "Skincare              139\n",
       "Magazines             139\n",
       "Comics                139\n",
       "Fitness Equipment     142\n",
       "Fragrances            142\n",
       "Winter Sports         143\n",
       "Cycling               145\n",
       "Children Books        146\n",
       "Sportswear            148\n",
       "Smartphones           148\n",
       "Beauty Tools          149\n",
       "Tablets               150\n",
       "Womens Dresses        151\n",
       "Non-Fiction           153\n",
       "Smart Watches         156\n",
       "Fiction               159\n",
       "Gaming Consoles       160\n",
       "Name: count, dtype: int64"
      ]
     },
     "execution_count": 80,
     "metadata": {},
     "output_type": "execute_result"
    }
   ],
   "source": [
    "# check for values in the sub_category column to ensure consistency\n",
    "df.Product_Sub_Category.value_counts().sort_values(ascending=True)"
   ]
  },
  {
   "cell_type": "code",
   "execution_count": 81,
   "id": "15179233",
   "metadata": {},
   "outputs": [
    {
     "data": {
      "text/plain": [
       "Customer_Location\n",
       "2    5000\n",
       "Name: count, dtype: int64"
      ]
     },
     "execution_count": 81,
     "metadata": {},
     "output_type": "execute_result"
    }
   ],
   "source": [
    "# Check to ensure each customer location is in a two-letter format\n",
    "location_lenght = df['Customer_Location'].str.len()\n",
    "location_lenght.value_counts()"
   ]
  },
  {
   "cell_type": "markdown",
   "id": "9839c4c2",
   "metadata": {},
   "source": [
    "### Data Cleaning/Transformation"
   ]
  },
  {
   "cell_type": "code",
   "execution_count": 82,
   "id": "2ff1a2af",
   "metadata": {},
   "outputs": [],
   "source": [
    "# Create a copy of the dataset to preserve an original source of truth for reference.\n",
    "df_clean = df.copy()"
   ]
  },
  {
   "cell_type": "code",
   "execution_count": 83,
   "id": "2ef49bb4",
   "metadata": {},
   "outputs": [],
   "source": [
    "# Changing the date to the correct format\n",
    "df_clean['Order_Date'] = pd.to_datetime(df_clean['Order_Date'])"
   ]
  },
  {
   "cell_type": "code",
   "execution_count": 84,
   "id": "5ba5f4e3",
   "metadata": {},
   "outputs": [
    {
     "name": "stdout",
     "output_type": "stream",
     "text": [
      "<class 'pandas.core.frame.DataFrame'>\n",
      "RangeIndex: 5000 entries, 0 to 4999\n",
      "Data columns (total 10 columns):\n",
      " #   Column                Non-Null Count  Dtype         \n",
      "---  ------                --------------  -----         \n",
      " 0   Customer_ID           5000 non-null   object        \n",
      " 1   Order_ID              5000 non-null   object        \n",
      " 2   Order_Date            5000 non-null   datetime64[ns]\n",
      " 3   Product_Category      5000 non-null   object        \n",
      " 4   Product_Sub_Category  5000 non-null   object        \n",
      " 5   Quantity              5000 non-null   int64         \n",
      " 6   Price                 5000 non-null   float64       \n",
      " 7   Discount              5000 non-null   float64       \n",
      " 8   Customer_Location     5000 non-null   object        \n",
      " 9   Revenue               5000 non-null   float64       \n",
      "dtypes: datetime64[ns](1), float64(3), int64(1), object(5)\n",
      "memory usage: 390.8+ KB\n"
     ]
    }
   ],
   "source": [
    "df_clean.info()"
   ]
  },
  {
   "cell_type": "markdown",
   "id": "65f484f0",
   "metadata": {},
   "source": [
    "### Data Validation (Business)"
   ]
  },
  {
   "cell_type": "markdown",
   "id": "411f9a38",
   "metadata": {},
   "source": [
    "Field-level checks\n",
    "(valid ranges, allowed values, data types).\n",
    "\n",
    "Cross-field validation\n",
    "(if Order_ID is not null , then Order Date must not be null).\n",
    "\n",
    "Aggregate validation\n",
    "(Numerical columns like quantity, price and total sales must be above 0. Revenue==Total sales * discount).\n",
    "\n",
    "Business rule consistency\n",
    "(discounts cannot exceed 50% without approval flag)."
   ]
  },
  {
   "cell_type": "code",
   "execution_count": 85,
   "id": "9b5857b0",
   "metadata": {},
   "outputs": [
    {
     "data": {
      "text/html": [
       "<div>\n",
       "<style scoped>\n",
       "    .dataframe tbody tr th:only-of-type {\n",
       "        vertical-align: middle;\n",
       "    }\n",
       "\n",
       "    .dataframe tbody tr th {\n",
       "        vertical-align: top;\n",
       "    }\n",
       "\n",
       "    .dataframe thead th {\n",
       "        text-align: right;\n",
       "    }\n",
       "</style>\n",
       "<table border=\"1\" class=\"dataframe\">\n",
       "  <thead>\n",
       "    <tr style=\"text-align: right;\">\n",
       "      <th></th>\n",
       "      <th>Order_Date</th>\n",
       "      <th>Quantity</th>\n",
       "      <th>Price</th>\n",
       "      <th>Discount</th>\n",
       "      <th>Revenue</th>\n",
       "    </tr>\n",
       "  </thead>\n",
       "  <tbody>\n",
       "    <tr>\n",
       "      <th>count</th>\n",
       "      <td>5000</td>\n",
       "      <td>5000.000000</td>\n",
       "      <td>5000.000000</td>\n",
       "      <td>5000.000000</td>\n",
       "      <td>5000.000000</td>\n",
       "    </tr>\n",
       "    <tr>\n",
       "      <th>mean</th>\n",
       "      <td>2023-12-30 16:11:42.719999744</td>\n",
       "      <td>2.368800</td>\n",
       "      <td>330.240118</td>\n",
       "      <td>0.063534</td>\n",
       "      <td>743.955115</td>\n",
       "    </tr>\n",
       "    <tr>\n",
       "      <th>min</th>\n",
       "      <td>2023-01-01 00:00:00</td>\n",
       "      <td>1.000000</td>\n",
       "      <td>8.000000</td>\n",
       "      <td>0.000000</td>\n",
       "      <td>6.164400</td>\n",
       "    </tr>\n",
       "    <tr>\n",
       "      <th>25%</th>\n",
       "      <td>2023-07-04 18:00:00</td>\n",
       "      <td>1.000000</td>\n",
       "      <td>54.017500</td>\n",
       "      <td>0.000000</td>\n",
       "      <td>94.601000</td>\n",
       "    </tr>\n",
       "    <tr>\n",
       "      <th>50%</th>\n",
       "      <td>2024-01-02 12:00:00</td>\n",
       "      <td>2.000000</td>\n",
       "      <td>149.770000</td>\n",
       "      <td>0.000000</td>\n",
       "      <td>264.530250</td>\n",
       "    </tr>\n",
       "    <tr>\n",
       "      <th>75%</th>\n",
       "      <td>2024-06-23 00:00:00</td>\n",
       "      <td>3.000000</td>\n",
       "      <td>415.087500</td>\n",
       "      <td>0.090000</td>\n",
       "      <td>767.867500</td>\n",
       "    </tr>\n",
       "    <tr>\n",
       "      <th>max</th>\n",
       "      <td>2024-12-31 00:00:00</td>\n",
       "      <td>10.000000</td>\n",
       "      <td>1997.860000</td>\n",
       "      <td>0.500000</td>\n",
       "      <td>13819.840000</td>\n",
       "    </tr>\n",
       "    <tr>\n",
       "      <th>std</th>\n",
       "      <td>NaN</td>\n",
       "      <td>1.704631</td>\n",
       "      <td>427.081790</td>\n",
       "      <td>0.118311</td>\n",
       "      <td>1328.413944</td>\n",
       "    </tr>\n",
       "  </tbody>\n",
       "</table>\n",
       "</div>"
      ],
      "text/plain": [
       "                          Order_Date     Quantity        Price     Discount  \\\n",
       "count                           5000  5000.000000  5000.000000  5000.000000   \n",
       "mean   2023-12-30 16:11:42.719999744     2.368800   330.240118     0.063534   \n",
       "min              2023-01-01 00:00:00     1.000000     8.000000     0.000000   \n",
       "25%              2023-07-04 18:00:00     1.000000    54.017500     0.000000   \n",
       "50%              2024-01-02 12:00:00     2.000000   149.770000     0.000000   \n",
       "75%              2024-06-23 00:00:00     3.000000   415.087500     0.090000   \n",
       "max              2024-12-31 00:00:00    10.000000  1997.860000     0.500000   \n",
       "std                              NaN     1.704631   427.081790     0.118311   \n",
       "\n",
       "            Revenue  \n",
       "count   5000.000000  \n",
       "mean     743.955115  \n",
       "min        6.164400  \n",
       "25%       94.601000  \n",
       "50%      264.530250  \n",
       "75%      767.867500  \n",
       "max    13819.840000  \n",
       "std     1328.413944  "
      ]
     },
     "execution_count": 85,
     "metadata": {},
     "output_type": "execute_result"
    }
   ],
   "source": [
    "# field-level checks for numerical columns. Aggregrate validation shows price and quantity are above 0.\n",
    "df_clean.describe()"
   ]
  },
  {
   "cell_type": "code",
   "execution_count": 86,
   "id": "42f04358",
   "metadata": {},
   "outputs": [
    {
     "data": {
      "text/html": [
       "<div>\n",
       "<style scoped>\n",
       "    .dataframe tbody tr th:only-of-type {\n",
       "        vertical-align: middle;\n",
       "    }\n",
       "\n",
       "    .dataframe tbody tr th {\n",
       "        vertical-align: top;\n",
       "    }\n",
       "\n",
       "    .dataframe thead th {\n",
       "        text-align: right;\n",
       "    }\n",
       "</style>\n",
       "<table border=\"1\" class=\"dataframe\">\n",
       "  <thead>\n",
       "    <tr style=\"text-align: right;\">\n",
       "      <th></th>\n",
       "      <th>Customer_ID</th>\n",
       "      <th>Order_ID</th>\n",
       "      <th>Product_Category</th>\n",
       "      <th>Product_Sub_Category</th>\n",
       "      <th>Customer_Location</th>\n",
       "    </tr>\n",
       "  </thead>\n",
       "  <tbody>\n",
       "    <tr>\n",
       "      <th>count</th>\n",
       "      <td>5000</td>\n",
       "      <td>5000</td>\n",
       "      <td>5000</td>\n",
       "      <td>5000</td>\n",
       "      <td>5000</td>\n",
       "    </tr>\n",
       "    <tr>\n",
       "      <th>unique</th>\n",
       "      <td>3203</td>\n",
       "      <td>5000</td>\n",
       "      <td>6</td>\n",
       "      <td>36</td>\n",
       "      <td>30</td>\n",
       "    </tr>\n",
       "    <tr>\n",
       "      <th>top</th>\n",
       "      <td>CUST_013392</td>\n",
       "      <td>ORD_00102406</td>\n",
       "      <td>Electronics</td>\n",
       "      <td>Gaming Consoles</td>\n",
       "      <td>IL</td>\n",
       "    </tr>\n",
       "    <tr>\n",
       "      <th>freq</th>\n",
       "      <td>6</td>\n",
       "      <td>1</td>\n",
       "      <td>882</td>\n",
       "      <td>160</td>\n",
       "      <td>191</td>\n",
       "    </tr>\n",
       "  </tbody>\n",
       "</table>\n",
       "</div>"
      ],
      "text/plain": [
       "        Customer_ID      Order_ID Product_Category Product_Sub_Category  \\\n",
       "count          5000          5000             5000                 5000   \n",
       "unique         3203          5000                6                   36   \n",
       "top     CUST_013392  ORD_00102406      Electronics      Gaming Consoles   \n",
       "freq              6             1              882                  160   \n",
       "\n",
       "       Customer_Location  \n",
       "count               5000  \n",
       "unique                30  \n",
       "top                   IL  \n",
       "freq                 191  "
      ]
     },
     "execution_count": 86,
     "metadata": {},
     "output_type": "execute_result"
    }
   ],
   "source": [
    "# field-level check for  non-numeical columns\n",
    "df_clean.describe(include=['object'])"
   ]
  },
  {
   "cell_type": "code",
   "execution_count": 87,
   "id": "9add147d",
   "metadata": {},
   "outputs": [
    {
     "name": "stdout",
     "output_type": "stream",
     "text": [
      "Number of mismatches: 0\n"
     ]
    }
   ],
   "source": [
    "# Based on business requirement. revenue should equal total sales. Checking that both values match, and if not, how many mismtaches\n",
    "expected_revenue = df_clean['Quantity'] * df_clean['Price'] * (1 - df_clean['Discount'])\n",
    "\n",
    "mismatch_count = (\n",
    "    ~np.isclose(df_clean['Revenue'], expected_revenue, rtol=1e-05, atol=1e-08)\n",
    ").sum()\n",
    "\n",
    "print(f\"Number of mismatches: {mismatch_count}\")"
   ]
  },
  {
   "cell_type": "code",
   "execution_count": 88,
   "id": "06cd5972",
   "metadata": {},
   "outputs": [
    {
     "data": {
      "text/plain": [
       "np.int64(0)"
      ]
     },
     "execution_count": 88,
     "metadata": {},
     "output_type": "execute_result"
    }
   ],
   "source": [
    "# To validate the business rule consistency of no discount above 50%\n",
    "(df_clean['Discount'] > 0.5).sum()"
   ]
  },
  {
   "cell_type": "markdown",
   "id": "bc309c45",
   "metadata": {},
   "source": [
    "### Feature Engineering"
   ]
  },
  {
   "cell_type": "code",
   "execution_count": 90,
   "id": "02bb14fe",
   "metadata": {},
   "outputs": [],
   "source": [
    "# Adding time-based columns (such as month, week, day)\n",
    "\n",
    "# Month number (1–12)\n",
    "df_clean['Month'] = df_clean['Order_Date'].dt.month  \n",
    "\n",
    "# Day of week name (e.g. Monday, Tuesday)\n",
    "df_clean['Day_Name'] = df_clean['Order_Date'].dt.day_name()\n",
    "\n",
    "# Day of week number (Monday=0, Sunday=6)\n",
    "df_clean['Day_Num'] = df_clean['Order_Date'].dt.dayofweek \n",
    "\n"
   ]
  },
  {
   "cell_type": "code",
   "execution_count": 107,
   "id": "afda2737",
   "metadata": {},
   "outputs": [],
   "source": [
    "# To get hihg-value customers\n",
    "df_clean['high_value_customers'] = df_clean['Revenue'] > df_clean['Revenue'].quantile(0.8)"
   ]
  },
  {
   "cell_type": "code",
   "execution_count": 108,
   "id": "838d997d",
   "metadata": {},
   "outputs": [
    {
     "data": {
      "text/html": [
       "<div>\n",
       "<style scoped>\n",
       "    .dataframe tbody tr th:only-of-type {\n",
       "        vertical-align: middle;\n",
       "    }\n",
       "\n",
       "    .dataframe tbody tr th {\n",
       "        vertical-align: top;\n",
       "    }\n",
       "\n",
       "    .dataframe thead th {\n",
       "        text-align: right;\n",
       "    }\n",
       "</style>\n",
       "<table border=\"1\" class=\"dataframe\">\n",
       "  <thead>\n",
       "    <tr style=\"text-align: right;\">\n",
       "      <th></th>\n",
       "      <th>Customer_ID</th>\n",
       "      <th>Order_ID</th>\n",
       "      <th>Order_Date</th>\n",
       "      <th>Product_Category</th>\n",
       "      <th>Product_Sub_Category</th>\n",
       "      <th>Quantity</th>\n",
       "      <th>Price</th>\n",
       "      <th>Discount</th>\n",
       "      <th>Customer_Location</th>\n",
       "      <th>Revenue</th>\n",
       "      <th>Month</th>\n",
       "      <th>Day_Name</th>\n",
       "      <th>Day_Num</th>\n",
       "      <th>high_value_customers</th>\n",
       "    </tr>\n",
       "  </thead>\n",
       "  <tbody>\n",
       "    <tr>\n",
       "      <th>0</th>\n",
       "      <td>CUST_013738</td>\n",
       "      <td>ORD_00102406</td>\n",
       "      <td>2023-01-01</td>\n",
       "      <td>Home &amp; Garden</td>\n",
       "      <td>Gardening Tools</td>\n",
       "      <td>1</td>\n",
       "      <td>419.19</td>\n",
       "      <td>0.00</td>\n",
       "      <td>TN</td>\n",
       "      <td>419.1900</td>\n",
       "      <td>1</td>\n",
       "      <td>Sunday</td>\n",
       "      <td>6</td>\n",
       "      <td>False</td>\n",
       "    </tr>\n",
       "    <tr>\n",
       "      <th>1</th>\n",
       "      <td>CUST_011726</td>\n",
       "      <td>ORD_00102902</td>\n",
       "      <td>2023-01-01</td>\n",
       "      <td>Electronics</td>\n",
       "      <td>Laptops</td>\n",
       "      <td>1</td>\n",
       "      <td>222.37</td>\n",
       "      <td>0.09</td>\n",
       "      <td>TN</td>\n",
       "      <td>202.3567</td>\n",
       "      <td>1</td>\n",
       "      <td>Sunday</td>\n",
       "      <td>6</td>\n",
       "      <td>False</td>\n",
       "    </tr>\n",
       "    <tr>\n",
       "      <th>2</th>\n",
       "      <td>CUST_010891</td>\n",
       "      <td>ORD_00103864</td>\n",
       "      <td>2023-01-01</td>\n",
       "      <td>Electronics</td>\n",
       "      <td>Laptops</td>\n",
       "      <td>6</td>\n",
       "      <td>1107.65</td>\n",
       "      <td>0.00</td>\n",
       "      <td>IN</td>\n",
       "      <td>6645.9000</td>\n",
       "      <td>1</td>\n",
       "      <td>Sunday</td>\n",
       "      <td>6</td>\n",
       "      <td>True</td>\n",
       "    </tr>\n",
       "    <tr>\n",
       "      <th>3</th>\n",
       "      <td>CUST_011452</td>\n",
       "      <td>ORD_00103560</td>\n",
       "      <td>2023-01-01</td>\n",
       "      <td>Electronics</td>\n",
       "      <td>Gaming Consoles</td>\n",
       "      <td>5</td>\n",
       "      <td>288.84</td>\n",
       "      <td>0.00</td>\n",
       "      <td>MA</td>\n",
       "      <td>1444.2000</td>\n",
       "      <td>1</td>\n",
       "      <td>Sunday</td>\n",
       "      <td>6</td>\n",
       "      <td>True</td>\n",
       "    </tr>\n",
       "    <tr>\n",
       "      <th>4</th>\n",
       "      <td>CUST_010886</td>\n",
       "      <td>ORD_00100632</td>\n",
       "      <td>2023-01-02</td>\n",
       "      <td>Electronics</td>\n",
       "      <td>Headphones</td>\n",
       "      <td>1</td>\n",
       "      <td>191.27</td>\n",
       "      <td>0.00</td>\n",
       "      <td>AZ</td>\n",
       "      <td>191.2700</td>\n",
       "      <td>1</td>\n",
       "      <td>Monday</td>\n",
       "      <td>0</td>\n",
       "      <td>False</td>\n",
       "    </tr>\n",
       "  </tbody>\n",
       "</table>\n",
       "</div>"
      ],
      "text/plain": [
       "   Customer_ID      Order_ID Order_Date Product_Category Product_Sub_Category  \\\n",
       "0  CUST_013738  ORD_00102406 2023-01-01    Home & Garden      Gardening Tools   \n",
       "1  CUST_011726  ORD_00102902 2023-01-01      Electronics              Laptops   \n",
       "2  CUST_010891  ORD_00103864 2023-01-01      Electronics              Laptops   \n",
       "3  CUST_011452  ORD_00103560 2023-01-01      Electronics      Gaming Consoles   \n",
       "4  CUST_010886  ORD_00100632 2023-01-02      Electronics           Headphones   \n",
       "\n",
       "   Quantity    Price  Discount Customer_Location    Revenue  Month Day_Name  \\\n",
       "0         1   419.19      0.00                TN   419.1900      1   Sunday   \n",
       "1         1   222.37      0.09                TN   202.3567      1   Sunday   \n",
       "2         6  1107.65      0.00                IN  6645.9000      1   Sunday   \n",
       "3         5   288.84      0.00                MA  1444.2000      1   Sunday   \n",
       "4         1   191.27      0.00                AZ   191.2700      1   Monday   \n",
       "\n",
       "   Day_Num  high_value_customers  \n",
       "0        6                 False  \n",
       "1        6                 False  \n",
       "2        6                  True  \n",
       "3        6                  True  \n",
       "4        0                 False  "
      ]
     },
     "execution_count": 108,
     "metadata": {},
     "output_type": "execute_result"
    }
   ],
   "source": [
    "# Checking the finally cleaned and transformed table\n",
    "df_clean.head(5)"
   ]
  },
  {
   "cell_type": "markdown",
   "id": "6c0177cb",
   "metadata": {},
   "source": [
    "### Data Analysis and Visualization"
   ]
  },
  {
   "cell_type": "code",
   "execution_count": 109,
   "id": "0789e31e",
   "metadata": {},
   "outputs": [
    {
     "data": {
      "text/plain": [
       "Product_Category\n",
       "Books            6.522193e+04\n",
       "Beauty           1.371077e+05\n",
       "Clothing         2.819485e+05\n",
       "Sports           4.744529e+05\n",
       "Home & Garden    6.814707e+05\n",
       "Electronics      2.079574e+06\n",
       "Name: Revenue, dtype: float64"
      ]
     },
     "execution_count": 109,
     "metadata": {},
     "output_type": "execute_result"
    }
   ],
   "source": [
    "df_analysis = df_clean.copy()\n",
    "\n",
    "# Which product category has generated the most revenue?\n",
    "category_revenue = df_analysis.groupby('Product_Category')['Revenue'].sum().sort_values(ascending=True)\n",
    "category_revenue"
   ]
  },
  {
   "cell_type": "code",
   "execution_count": 93,
   "id": "643178a5",
   "metadata": {},
   "outputs": [
    {
     "data": {
      "image/png": "[encoded data removed]",
      "text/plain": [
       "<Figure size 600x400 with 1 Axes>"
      ]
     },
     "metadata": {},
     "output_type": "display_data"
    }
   ],
   "source": [
    "# Using your earlier grouped data\n",
    "category_revenue = df_analysis.groupby('Product_Category')['Revenue'].sum().sort_values(ascending=True)\n",
    "\n",
    "fig, ax = plt.subplots(figsize=(6,4))\n",
    "\n",
    "# Create horizontal bars\n",
    "bars = ax.barh(category_revenue.index, category_revenue)\n",
    "\n",
    "# Add formatted labels inside bars\n",
    "ax.bar_label(bars, labels=[f'{value:,.0f}' for value in category_revenue])\n",
    "\n",
    "# Remove x-ticks\n",
    "ax.set_xticks([])\n",
    "\n",
    "# Title\n",
    "ax.set_title('Revenue by Product Category')\n",
    "\n",
    "# Remove right spine for cleaner look\n",
    "ax.spines['right'].set_visible(False)\n",
    "\n",
    "plt.show()\n"
   ]
  },
  {
   "cell_type": "code",
   "execution_count": 94,
   "id": "72b042bd",
   "metadata": {},
   "outputs": [
    {
     "name": "stdout",
     "output_type": "stream",
     "text": [
      "Product_Sub_Category\n",
      "Home Decor            109826.6465\n",
      "Storage               110330.1389\n",
      "Kitchen Appliances    125048.8293\n",
      "Gardening Tools       129829.3451\n",
      "Laptops               310999.7473\n",
      "Headphones            318398.7129\n",
      "Gaming Consoles       332296.2353\n",
      "Tablets               348740.8234\n",
      "Smartphones           365802.8764\n",
      "Smart Watches         403335.4208\n",
      "Name: Revenue, dtype: float64\n"
     ]
    }
   ],
   "source": [
    "# Which product subcategories generate the most revenue?\n",
    "sub_category_revenue = df_analysis.groupby('Product_Sub_Category')['Revenue'].sum().sort_values(ascending=True)\n",
    "top10_sub_category_revenue = sub_category_revenue.tail(10)\n",
    "print(top10_sub_category_revenue)"
   ]
  },
  {
   "cell_type": "code",
   "execution_count": 95,
   "id": "0688a122",
   "metadata": {},
   "outputs": [
    {
     "data": {
      "image/png": "[encoded data removed]",
      "text/plain": [
       "<Figure size 700x500 with 1 Axes>"
      ]
     },
     "metadata": {},
     "output_type": "display_data"
    }
   ],
   "source": [
    "fig, ax = plt.subplots(figsize=(7,5))\n",
    "\n",
    "# Horizontal bars\n",
    "bars = ax.barh(top10_sub_category_revenue.index, top10_sub_category_revenue)\n",
    "\n",
    "# Add labels on the bars (comma-separated, no decimals)\n",
    "ax.bar_label(bars, labels=[f'{value:,.0f}' for value in top10_sub_category_revenue])\n",
    "\n",
    "# Remove x-ticks\n",
    "ax.set_xticks([])\n",
    "\n",
    "# Title\n",
    "ax.set_title('Top 10 Product Sub-Categories by Revenue')\n",
    "\n",
    "# Clean up right spine\n",
    "ax.spines['right'].set_visible(False)\n",
    "\n",
    "plt.show()\n"
   ]
  },
  {
   "cell_type": "code",
   "execution_count": 96,
   "id": "3f6f0055",
   "metadata": {},
   "outputs": [
    {
     "data": {
      "image/png": "[encoded data removed]",
      "text/plain": [
       "<Figure size 700x500 with 1 Axes>"
      ]
     },
     "metadata": {},
     "output_type": "display_data"
    }
   ],
   "source": [
    "bottom10_sub_category_revenue = sub_category_revenue.head(10)\n",
    "\n",
    "fig, ax = plt.subplots(figsize=(7,5))\n",
    "\n",
    "# Horizontal bars\n",
    "bars = ax.barh(bottom10_sub_category_revenue.index, top10_sub_category_revenue)\n",
    "\n",
    "# Add labels on the bars (comma-separated, no decimals)\n",
    "ax.bar_label(bars, labels=[f'{value:,.0f}' for value in bottom10_sub_category_revenue])\n",
    "\n",
    "# Remove x-ticks\n",
    "ax.set_xticks([])\n",
    "\n",
    "# Title\n",
    "ax.set_title('Top 10 Product Sub-Categories by Revenue')\n",
    "\n",
    "# Clean up right spine\n",
    "ax.spines['right'].set_visible(False)\n",
    "\n",
    "plt.show()\n"
   ]
  },
  {
   "cell_type": "code",
   "execution_count": 103,
   "id": "f847be26",
   "metadata": {},
   "outputs": [
    {
     "data": {
      "text/plain": [
       "Customer_Location\n",
       "CO    1048.857624\n",
       "MN     943.655892\n",
       "NC     878.105915\n",
       "WI     864.129433\n",
       "UT     850.593842\n",
       "SC     842.341545\n",
       "IN     835.582691\n",
       "OH     816.625837\n",
       "PA     790.779050\n",
       "OR     786.874981\n",
       "Name: Revenue, dtype: float64"
      ]
     },
     "execution_count": 103,
     "metadata": {},
     "output_type": "execute_result"
    }
   ],
   "source": [
    "# Which customer location has the highest average order value?\n",
    "orders = df_analysis.groupby(['Customer_Location', 'Order_ID'])['Revenue'].sum().reset_index()\n",
    "aov_location = orders.groupby('Customer_Location')['Revenue'].mean().sort_values(ascending=False)\n",
    "\n",
    "aov_location.head(10)"
   ]
  },
  {
   "cell_type": "code",
   "execution_count": 117,
   "id": "5c65b1f0",
   "metadata": {},
   "outputs": [
    {
     "data": {
      "image/png": "[encoded data removed]",
      "text/plain": [
       "<Figure size 700x600 with 1 Axes>"
      ]
     },
     "metadata": {},
     "output_type": "display_data"
    }
   ],
   "source": [
    "# Top 10\n",
    "top10_aov_location = aov_location.head(10)\n",
    "\n",
    "# Plot column chart\n",
    "fig, ax = plt.subplots(figsize=(7,6))\n",
    "\n",
    "bars = ax.bar(top10_aov_location.index, top10_aov_location)\n",
    "\n",
    "# Add labels on top of bars\n",
    "ax.bar_label(bars, labels=[f'{value:,.0f}' for value in top10_aov_location])\n",
    "\n",
    "# Rotate x labels if names are long\n",
    "plt.xticks(rotation=45, ha='right')\n",
    "\n",
    "# Title\n",
    "ax.set_title('Top 10 Customer Locations by Average Order Value')\n",
    "\n",
    "# Remove right spine for clean look\n",
    "ax.spines['right'].set_visible(False)\n",
    "\n",
    "plt.show()"
   ]
  },
  {
   "cell_type": "code",
   "execution_count": null,
   "id": "bb404cad",
   "metadata": {},
   "outputs": [],
   "source": []
  },
  {
   "cell_type": "code",
   "execution_count": 118,
   "id": "fa0f9208",
   "metadata": {},
   "outputs": [
    {
     "name": "stdout",
     "output_type": "stream",
     "text": [
      "Average discount (High-Value Customers): 0.0461\n",
      "Average discount (Other Customers): 0.0679\n"
     ]
    }
   ],
   "source": [
    "# What is the average discount applied to high-value customers?\n",
    "\n",
    "# Average discount for high-value customers\n",
    "avg_discount_high = df_analysis.loc[df_analysis['high_value_customers'], 'Discount'].mean()\n",
    "\n",
    "# Average discount for non-high-value customers (for comparison)\n",
    "avg_discount_non_high = df_analysis.loc[~df_analysis['high_value_customers'], 'Discount'].mean()\n",
    "\n",
    "print(\"Average discount (High-Value Customers):\", round(avg_discount_high, 4))\n",
    "print(\"Average discount (Other Customers):\", round(avg_discount_non_high, 4))\n"
   ]
  },
  {
   "cell_type": "code",
   "execution_count": null,
   "id": "343034a9",
   "metadata": {},
   "outputs": [
    {
     "name": "stdout",
     "output_type": "stream",
     "text": [
      "                   total_high_value  concentration\n",
      "Customer_Location                                 \n",
      "CO                               52       0.279570\n",
      "NC                               42       0.272727\n",
      "MN                               43       0.265432\n",
      "UT                               38       0.263889\n",
      "IN                               31       0.226277\n",
      "GA                               35       0.217391\n",
      "MD                               40       0.212766\n",
      "PA                               36       0.211765\n",
      "OR                               34       0.211180\n",
      "IL                               40       0.209424\n"
     ]
    }
   ],
   "source": [
    "# Which geographic locations have the highest concentration of high-value customers?\n",
    "\n",
    "loc_stats = (\n",
    "    df_analysis.groupby('Customer_Location')['high_value_customers']\n",
    "    .agg(total_high_value='sum', concentration='mean')\n",
    "    .sort_values('concentration', ascending=False)\n",
    ")\n",
    "\n",
    "print(loc_stats.head(10))"
   ]
  },
  {
   "cell_type": "code",
   "execution_count": null,
   "id": "ea686fff",
   "metadata": {},
   "outputs": [],
   "source": []
  },
  {
   "cell_type": "code",
   "execution_count": null,
   "metadata": {},
   "outputs": [
    {
     "data": {
      "image/png": "[encoded data removed]",
      "text/plain": [
       "<Figure size 1200x800 with 1 Axes>"
      ]
     },
     "metadata": {},
     "output_type": "display_data"
    }
   ],
   "source": [
    "#How does the discount rate impact the total sales across different product categories?\n",
    "\n",
    "# --- 1) Bin discounts into readable bands ---\n",
    "bins = [0, 0.05, 0.10, 0.15, 0.20, 1.01]   # adjust if your discounts can exceed 20%\n",
    "labels = ['0–5%', '5–10%', '10–15%', '15–20%', '20%+']\n",
    "\n",
    "df_use = df_analysis.copy()\n",
    "df_use['Discount_Bin'] = pd.cut(df_use['Discount'], bins=bins, labels=labels, include_lowest=True, right=False)\n",
    "\n",
    "# --- 2) Revenue by Category x Discount Band (wide form for plotting) ---\n",
    "rev_cat_disc = (df_use\n",
    "                .groupby(['Product_Category', 'Discount_Bin'], observed=True)['Revenue']\n",
    "                .sum()\n",
    "                .unstack('Discount_Bin')\n",
    "                .fillna(0))\n",
    "\n",
    "# Optional: sort categories by total revenue so the chart reads left→right by importance\n",
    "rev_cat_disc = rev_cat_disc.loc[rev_cat_disc.sum(axis=1).sort_values(ascending=False).index]\n",
    "\n",
    "\n",
    "\n",
    "# --- 3) Clustered bar chart: Categories on x-axis; one bar per discount band ---\n",
    "ax = rev_cat_disc.plot(kind='bar', figsize=(12, 8), width=0.8, rot=0)\n",
    "ax.set_title('Revenue by Discount Band Across Product Categories')\n",
    "ax.set_xlabel('Product Category')\n",
    "ax.set_ylabel('Total Revenue')\n",
    "ax.legend(title='Discount Band', bbox_to_anchor=(1.05, 1), loc='upper left')  # legend outside the plot\n",
    "ax.spines['right'].set_visible(False)\n",
    "ax.spines['top'].set_visible(False)\n",
    "\n"
   ]
  },
  {
   "cell_type": "code",
   "execution_count": null,
   "id": "0eb2ee6c",
   "metadata": {},
   "outputs": [
    {
     "data": {
      "image/png": "[encoded data removed]",
      "text/plain": [
       "<Figure size 1000x500 with 1 Axes>"
      ]
     },
     "metadata": {},
     "output_type": "display_data"
    }
   ],
   "source": [
    "# Monthly revenue trend\n",
    "\n",
    "import calendar\n",
    "\n",
    "monthly = (\n",
    "    df_analysis.groupby('Month')['Revenue']\n",
    "    .sum()\n",
    "    .reset_index()\n",
    "    .sort_values('Month')\n",
    ")\n",
    "\n",
    "# Map numbers 1–12 → Jan, Feb, ...\n",
    "monthly['Month_Name'] = monthly['Month'].apply(lambda x: calendar.month_abbr[int(x)])\n",
    "\n",
    "plt.figure(figsize=(10, 5))\n",
    "plt.plot(monthly['Month_Name'], monthly['Revenue'], marker='o')\n",
    "plt.title('Monthly Revenue Trend')\n",
    "plt.xlabel('Month')\n",
    "plt.ylabel('Total Revenue')\n",
    "plt.grid(True, linestyle='--', alpha=0.4)\n",
    "ax = plt.gca()\n",
    "ax.spines['top'].set_visible(False)\n",
    "ax.spines['right'].set_visible(False)\n",
    "plt.tight_layout()\n",
    "plt.show()\n"
   ]
  },
  {
   "cell_type": "code",
   "execution_count": null,
   "id": "6f433641",
   "metadata": {},
   "outputs": [
    {
     "data": {
      "image/png": "[encoded data removed]",
      "text/plain": [
       "<Figure size 1000x400 with 1 Axes>"
      ]
     },
     "metadata": {},
     "output_type": "display_data"
    }
   ],
   "source": [
    "# Day of the week revenue trend\n",
    "\n",
    "dow = (\n",
    "    df_analysis.groupby(['Day_Num', 'Day_Name'])['Revenue']\n",
    "    .sum()\n",
    "    .reset_index()\n",
    "    .sort_values('Day_Num')   # ensures Mon→Sun order\n",
    ")\n",
    "\n",
    "plt.figure(figsize=(10, 4))\n",
    "plt.plot(dow['Day_Name'], dow['Revenue'], marker='o')\n",
    "plt.title('Revenue by Day of Week')\n",
    "plt.xlabel('Day of Week')\n",
    "plt.ylabel('Total Revenue')\n",
    "plt.grid(True, linestyle='--', alpha=0.4)\n",
    "ax = plt.gca()\n",
    "ax.spines['top'].set_visible(False)\n",
    "ax.spines['right'].set_visible(False)\n",
    "plt.tight_layout()\n",
    "plt.show()\n"
   ]
  },
  {
   "cell_type": "markdown",
   "id": "98b7b64a",
   "metadata": {},
   "source": [
    "### Data Modeling"
   ]
  },
  {
   "cell_type": "code",
   "execution_count": 138,
   "id": "41a112c7",
   "metadata": {},
   "outputs": [],
   "source": [
    "df_model = df_clean.copy()"
   ]
  },
  {
   "cell_type": "code",
   "execution_count": 144,
   "id": "fb03dae9",
   "metadata": {},
   "outputs": [
    {
     "data": {
      "text/html": [
       "<div>\n",
       "<style scoped>\n",
       "    .dataframe tbody tr th:only-of-type {\n",
       "        vertical-align: middle;\n",
       "    }\n",
       "\n",
       "    .dataframe tbody tr th {\n",
       "        vertical-align: top;\n",
       "    }\n",
       "\n",
       "    .dataframe thead th {\n",
       "        text-align: right;\n",
       "    }\n",
       "</style>\n",
       "<table border=\"1\" class=\"dataframe\">\n",
       "  <thead>\n",
       "    <tr style=\"text-align: right;\">\n",
       "      <th></th>\n",
       "      <th>Customer_ID</th>\n",
       "      <th>Customer_Location</th>\n",
       "      <th>high_value_customers</th>\n",
       "    </tr>\n",
       "  </thead>\n",
       "  <tbody>\n",
       "    <tr>\n",
       "      <th>0</th>\n",
       "      <td>CUST_013738</td>\n",
       "      <td>TN</td>\n",
       "      <td>False</td>\n",
       "    </tr>\n",
       "    <tr>\n",
       "      <th>1</th>\n",
       "      <td>CUST_011726</td>\n",
       "      <td>TN</td>\n",
       "      <td>False</td>\n",
       "    </tr>\n",
       "    <tr>\n",
       "      <th>2</th>\n",
       "      <td>CUST_010891</td>\n",
       "      <td>IN</td>\n",
       "      <td>True</td>\n",
       "    </tr>\n",
       "    <tr>\n",
       "      <th>3</th>\n",
       "      <td>CUST_011452</td>\n",
       "      <td>MA</td>\n",
       "      <td>True</td>\n",
       "    </tr>\n",
       "    <tr>\n",
       "      <th>4</th>\n",
       "      <td>CUST_010886</td>\n",
       "      <td>AZ</td>\n",
       "      <td>False</td>\n",
       "    </tr>\n",
       "  </tbody>\n",
       "</table>\n",
       "</div>"
      ],
      "text/plain": [
       "   Customer_ID Customer_Location  high_value_customers\n",
       "0  CUST_013738                TN                 False\n",
       "1  CUST_011726                TN                 False\n",
       "2  CUST_010891                IN                  True\n",
       "3  CUST_011452                MA                  True\n",
       "4  CUST_010886                AZ                 False"
      ]
     },
     "execution_count": 144,
     "metadata": {},
     "output_type": "execute_result"
    }
   ],
   "source": [
    "# Customer dimension\n",
    "\n",
    "customer = df_model[['Customer_ID','Customer_Location', 'high_value_customers']].copy().drop_duplicates().reset_index(drop=True)\n",
    "customer.head()"
   ]
  },
  {
   "cell_type": "code",
   "execution_count": 143,
   "id": "35059d0b",
   "metadata": {},
   "outputs": [
    {
     "data": {
      "text/html": [
       "<div>\n",
       "<style scoped>\n",
       "    .dataframe tbody tr th:only-of-type {\n",
       "        vertical-align: middle;\n",
       "    }\n",
       "\n",
       "    .dataframe tbody tr th {\n",
       "        vertical-align: top;\n",
       "    }\n",
       "\n",
       "    .dataframe thead th {\n",
       "        text-align: right;\n",
       "    }\n",
       "</style>\n",
       "<table border=\"1\" class=\"dataframe\">\n",
       "  <thead>\n",
       "    <tr style=\"text-align: right;\">\n",
       "      <th></th>\n",
       "      <th>Order_ID</th>\n",
       "      <th>Order_Date</th>\n",
       "      <th>Month</th>\n",
       "      <th>Day_Name</th>\n",
       "      <th>Day_Num</th>\n",
       "    </tr>\n",
       "  </thead>\n",
       "  <tbody>\n",
       "    <tr>\n",
       "      <th>0</th>\n",
       "      <td>ORD_00102406</td>\n",
       "      <td>2023-01-01</td>\n",
       "      <td>1</td>\n",
       "      <td>Sunday</td>\n",
       "      <td>6</td>\n",
       "    </tr>\n",
       "    <tr>\n",
       "      <th>1</th>\n",
       "      <td>ORD_00102902</td>\n",
       "      <td>2023-01-01</td>\n",
       "      <td>1</td>\n",
       "      <td>Sunday</td>\n",
       "      <td>6</td>\n",
       "    </tr>\n",
       "    <tr>\n",
       "      <th>2</th>\n",
       "      <td>ORD_00103864</td>\n",
       "      <td>2023-01-01</td>\n",
       "      <td>1</td>\n",
       "      <td>Sunday</td>\n",
       "      <td>6</td>\n",
       "    </tr>\n",
       "    <tr>\n",
       "      <th>3</th>\n",
       "      <td>ORD_00103560</td>\n",
       "      <td>2023-01-01</td>\n",
       "      <td>1</td>\n",
       "      <td>Sunday</td>\n",
       "      <td>6</td>\n",
       "    </tr>\n",
       "    <tr>\n",
       "      <th>4</th>\n",
       "      <td>ORD_00100632</td>\n",
       "      <td>2023-01-02</td>\n",
       "      <td>1</td>\n",
       "      <td>Monday</td>\n",
       "      <td>0</td>\n",
       "    </tr>\n",
       "  </tbody>\n",
       "</table>\n",
       "</div>"
      ],
      "text/plain": [
       "       Order_ID Order_Date  Month Day_Name  Day_Num\n",
       "0  ORD_00102406 2023-01-01      1   Sunday        6\n",
       "1  ORD_00102902 2023-01-01      1   Sunday        6\n",
       "2  ORD_00103864 2023-01-01      1   Sunday        6\n",
       "3  ORD_00103560 2023-01-01      1   Sunday        6\n",
       "4  ORD_00100632 2023-01-02      1   Monday        0"
      ]
     },
     "execution_count": 143,
     "metadata": {},
     "output_type": "execute_result"
    }
   ],
   "source": [
    "# Order dimension\n",
    "\n",
    "order = df_model[['Order_ID','Order_Date', 'Month', 'Day_Name', 'Day_Num']].copy().drop_duplicates().reset_index(drop=True)\n",
    "order.head()"
   ]
  },
  {
   "cell_type": "code",
   "execution_count": 145,
   "id": "e30d839c",
   "metadata": {},
   "outputs": [
    {
     "data": {
      "text/html": [
       "<div>\n",
       "<style scoped>\n",
       "    .dataframe tbody tr th:only-of-type {\n",
       "        vertical-align: middle;\n",
       "    }\n",
       "\n",
       "    .dataframe tbody tr th {\n",
       "        vertical-align: top;\n",
       "    }\n",
       "\n",
       "    .dataframe thead th {\n",
       "        text-align: right;\n",
       "    }\n",
       "</style>\n",
       "<table border=\"1\" class=\"dataframe\">\n",
       "  <thead>\n",
       "    <tr style=\"text-align: right;\">\n",
       "      <th></th>\n",
       "      <th>Product_ID</th>\n",
       "      <th>Product_Category</th>\n",
       "      <th>Product_Sub_Category</th>\n",
       "    </tr>\n",
       "  </thead>\n",
       "  <tbody>\n",
       "    <tr>\n",
       "      <th>0</th>\n",
       "      <td>0</td>\n",
       "      <td>Home &amp; Garden</td>\n",
       "      <td>Gardening Tools</td>\n",
       "    </tr>\n",
       "    <tr>\n",
       "      <th>1</th>\n",
       "      <td>1</td>\n",
       "      <td>Electronics</td>\n",
       "      <td>Laptops</td>\n",
       "    </tr>\n",
       "    <tr>\n",
       "      <th>2</th>\n",
       "      <td>2</td>\n",
       "      <td>Electronics</td>\n",
       "      <td>Gaming Consoles</td>\n",
       "    </tr>\n",
       "    <tr>\n",
       "      <th>3</th>\n",
       "      <td>3</td>\n",
       "      <td>Electronics</td>\n",
       "      <td>Headphones</td>\n",
       "    </tr>\n",
       "    <tr>\n",
       "      <th>4</th>\n",
       "      <td>4</td>\n",
       "      <td>Clothing</td>\n",
       "      <td>Shoes</td>\n",
       "    </tr>\n",
       "  </tbody>\n",
       "</table>\n",
       "</div>"
      ],
      "text/plain": [
       "   Product_ID Product_Category Product_Sub_Category\n",
       "0           0    Home & Garden      Gardening Tools\n",
       "1           1      Electronics              Laptops\n",
       "2           2      Electronics      Gaming Consoles\n",
       "3           3      Electronics           Headphones\n",
       "4           4         Clothing                Shoes"
      ]
     },
     "execution_count": 145,
     "metadata": {},
     "output_type": "execute_result"
    }
   ],
   "source": [
    "# Product dimension\n",
    "\n",
    "product = df_model[['Product_Category','Product_Sub_Category']].copy().drop_duplicates().reset_index(drop=True)\n",
    "\n",
    "# Creating a PK column for the product table by changing the index name and thereafter resetting it.\n",
    "product.index.name = 'Product_ID'\n",
    "product = product.reset_index()\n",
    "\n",
    "product.head()"
   ]
  },
  {
   "cell_type": "code",
   "execution_count": 152,
   "id": "b7750233",
   "metadata": {},
   "outputs": [
    {
     "data": {
      "text/html": [
       "<div>\n",
       "<style scoped>\n",
       "    .dataframe tbody tr th:only-of-type {\n",
       "        vertical-align: middle;\n",
       "    }\n",
       "\n",
       "    .dataframe tbody tr th {\n",
       "        vertical-align: top;\n",
       "    }\n",
       "\n",
       "    .dataframe thead th {\n",
       "        text-align: right;\n",
       "    }\n",
       "</style>\n",
       "<table border=\"1\" class=\"dataframe\">\n",
       "  <thead>\n",
       "    <tr style=\"text-align: right;\">\n",
       "      <th></th>\n",
       "      <th>Customer_ID</th>\n",
       "      <th>Order_ID</th>\n",
       "      <th>Product_ID</th>\n",
       "      <th>Quantity</th>\n",
       "      <th>Price</th>\n",
       "      <th>Discount</th>\n",
       "      <th>Revenue</th>\n",
       "    </tr>\n",
       "  </thead>\n",
       "  <tbody>\n",
       "    <tr>\n",
       "      <th>0</th>\n",
       "      <td>CUST_013738</td>\n",
       "      <td>ORD_00102406</td>\n",
       "      <td>0</td>\n",
       "      <td>1</td>\n",
       "      <td>419.19</td>\n",
       "      <td>0.00</td>\n",
       "      <td>419.1900</td>\n",
       "    </tr>\n",
       "    <tr>\n",
       "      <th>1</th>\n",
       "      <td>CUST_011726</td>\n",
       "      <td>ORD_00102902</td>\n",
       "      <td>1</td>\n",
       "      <td>1</td>\n",
       "      <td>222.37</td>\n",
       "      <td>0.09</td>\n",
       "      <td>202.3567</td>\n",
       "    </tr>\n",
       "    <tr>\n",
       "      <th>2</th>\n",
       "      <td>CUST_010891</td>\n",
       "      <td>ORD_00103864</td>\n",
       "      <td>1</td>\n",
       "      <td>6</td>\n",
       "      <td>1107.65</td>\n",
       "      <td>0.00</td>\n",
       "      <td>6645.9000</td>\n",
       "    </tr>\n",
       "    <tr>\n",
       "      <th>3</th>\n",
       "      <td>CUST_011452</td>\n",
       "      <td>ORD_00103560</td>\n",
       "      <td>2</td>\n",
       "      <td>5</td>\n",
       "      <td>288.84</td>\n",
       "      <td>0.00</td>\n",
       "      <td>1444.2000</td>\n",
       "    </tr>\n",
       "    <tr>\n",
       "      <th>4</th>\n",
       "      <td>CUST_010886</td>\n",
       "      <td>ORD_00100632</td>\n",
       "      <td>3</td>\n",
       "      <td>1</td>\n",
       "      <td>191.27</td>\n",
       "      <td>0.00</td>\n",
       "      <td>191.2700</td>\n",
       "    </tr>\n",
       "  </tbody>\n",
       "</table>\n",
       "</div>"
      ],
      "text/plain": [
       "   Customer_ID      Order_ID  Product_ID  Quantity    Price  Discount  \\\n",
       "0  CUST_013738  ORD_00102406           0         1   419.19      0.00   \n",
       "1  CUST_011726  ORD_00102902           1         1   222.37      0.09   \n",
       "2  CUST_010891  ORD_00103864           1         6  1107.65      0.00   \n",
       "3  CUST_011452  ORD_00103560           2         5   288.84      0.00   \n",
       "4  CUST_010886  ORD_00100632           3         1   191.27      0.00   \n",
       "\n",
       "     Revenue  \n",
       "0   419.1900  \n",
       "1   202.3567  \n",
       "2  6645.9000  \n",
       "3  1444.2000  \n",
       "4   191.2700  "
      ]
     },
     "execution_count": 152,
     "metadata": {},
     "output_type": "execute_result"
    }
   ],
   "source": [
    "# Facts table\n",
    "facts_table = df_model.merge(\n",
    "    product[['Product_ID', 'Product_Category', 'Product_Sub_Category']],\n",
    "    on=['Product_Category', 'Product_Sub_Category'],\n",
    "    how='left')\n",
    "\n",
    "facts_table = facts_table[[\n",
    "    'Customer_ID', 'Order_ID', 'Product_ID', 'Quantity', 'Price', 'Discount', 'Revenue'\n",
    "]].copy()\n",
    "\n",
    "facts_table.head(5)"
   ]
  },
  {
   "cell_type": "markdown",
   "id": "831ae2b1",
   "metadata": {},
   "source": [
    "### Data Loading"
   ]
  },
  {
   "cell_type": "code",
   "execution_count": 154,
   "id": "d757d623",
   "metadata": {},
   "outputs": [],
   "source": [
    "from sqlalchemy import create_engine\n",
    "from dotenv import load_dotenv\n",
    "import psycopg2"
   ]
  },
  {
   "cell_type": "code",
   "execution_count": null,
   "id": "2c1c101c",
   "metadata": {},
   "outputs": [],
   "source": []
  }
 ],
 "metadata": {
  "kernelspec": {
   "display_name": "Python 3",
   "language": "python",
   "name": "python3"
  },
  "language_info": {
   "codemirror_mode": {
    "name": "ipython",
    "version": 3
   },
   "file_extension": ".py",
   "mimetype": "text/x-python",
   "name": "python",
   "nbconvert_exporter": "python",
   "pygments_lexer": "ipython3",
   "version": "3.11.0"
  }
 },
 "nbformat": 4,
 "nbformat_minor": 5
}
