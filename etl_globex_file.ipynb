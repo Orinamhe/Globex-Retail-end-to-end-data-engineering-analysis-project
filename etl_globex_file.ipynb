{
 "cells": [
  {
   "cell_type": "markdown",
   "id": "1085a133",
   "metadata": {},
   "source": [
    "## Data Pipeline Steps\n",
    "1. Data Extraction\n",
    "2. Quality Assessment\n",
    "3. Data cleaning/transformation\n",
    "4. Data Validation (Business)\n",
    "6. Feature Engineering\n",
    "7. Data analysis and visualization\n",
    "8. Data Modelling\n",
    "9. Data Loading"
   ]
  },
  {
   "cell_type": "code",
   "execution_count": null,
   "id": "d8affac2",
   "metadata": {},
   "outputs": [],
   "source": []
  },
  {
   "cell_type": "code",
   "execution_count": 1,
   "id": "f0560c94",
   "metadata": {},
   "outputs": [],
   "source": [
    "#Import necessary libraries\n",
    "\n",
    "import pandas as pd\n",
    "import numpy as np\n",
    "import matplotlib.pyplot as plt\n",
    "import seaborn as sns\n"
   ]
  },
  {
   "cell_type": "markdown",
   "id": "bf236a6a",
   "metadata": {},
   "source": [
    "### Data Extraction"
   ]
  },
  {
   "cell_type": "code",
   "execution_count": 36,
   "id": "2f11fc37",
   "metadata": {},
   "outputs": [
    {
     "data": {
      "text/html": [
       "<div>\n",
       "<style scoped>\n",
       "    .dataframe tbody tr th:only-of-type {\n",
       "        vertical-align: middle;\n",
       "    }\n",
       "\n",
       "    .dataframe tbody tr th {\n",
       "        vertical-align: top;\n",
       "    }\n",
       "\n",
       "    .dataframe thead th {\n",
       "        text-align: right;\n",
       "    }\n",
       "</style>\n",
       "<table border=\"1\" class=\"dataframe\">\n",
       "  <thead>\n",
       "    <tr style=\"text-align: right;\">\n",
       "      <th></th>\n",
       "      <th>Customer_ID</th>\n",
       "      <th>Order_ID</th>\n",
       "      <th>Order_Date</th>\n",
       "      <th>Product_Category</th>\n",
       "      <th>Product_Sub_Category</th>\n",
       "      <th>Quantity</th>\n",
       "      <th>Price</th>\n",
       "      <th>Discount</th>\n",
       "      <th>Customer_Location</th>\n",
       "      <th>Revenue</th>\n",
       "    </tr>\n",
       "  </thead>\n",
       "  <tbody>\n",
       "    <tr>\n",
       "      <th>0</th>\n",
       "      <td>CUST_013738</td>\n",
       "      <td>ORD_00102406</td>\n",
       "      <td>2023-01-01</td>\n",
       "      <td>Home &amp; Garden</td>\n",
       "      <td>Gardening Tools</td>\n",
       "      <td>1</td>\n",
       "      <td>419.19</td>\n",
       "      <td>0.00</td>\n",
       "      <td>TN</td>\n",
       "      <td>419.1900</td>\n",
       "    </tr>\n",
       "    <tr>\n",
       "      <th>1</th>\n",
       "      <td>CUST_011726</td>\n",
       "      <td>ORD_00102902</td>\n",
       "      <td>2023-01-01</td>\n",
       "      <td>Electronics</td>\n",
       "      <td>Laptops</td>\n",
       "      <td>1</td>\n",
       "      <td>222.37</td>\n",
       "      <td>0.09</td>\n",
       "      <td>TN</td>\n",
       "      <td>202.3567</td>\n",
       "    </tr>\n",
       "    <tr>\n",
       "      <th>2</th>\n",
       "      <td>CUST_010891</td>\n",
       "      <td>ORD_00103864</td>\n",
       "      <td>2023-01-01</td>\n",
       "      <td>Electronics</td>\n",
       "      <td>Laptops</td>\n",
       "      <td>6</td>\n",
       "      <td>1107.65</td>\n",
       "      <td>0.00</td>\n",
       "      <td>IN</td>\n",
       "      <td>6645.9000</td>\n",
       "    </tr>\n",
       "    <tr>\n",
       "      <th>3</th>\n",
       "      <td>CUST_011452</td>\n",
       "      <td>ORD_00103560</td>\n",
       "      <td>2023-01-01</td>\n",
       "      <td>Electronics</td>\n",
       "      <td>Gaming Consoles</td>\n",
       "      <td>5</td>\n",
       "      <td>288.84</td>\n",
       "      <td>0.00</td>\n",
       "      <td>MA</td>\n",
       "      <td>1444.2000</td>\n",
       "    </tr>\n",
       "    <tr>\n",
       "      <th>4</th>\n",
       "      <td>CUST_010886</td>\n",
       "      <td>ORD_00100632</td>\n",
       "      <td>2023-01-02</td>\n",
       "      <td>Electronics</td>\n",
       "      <td>Headphones</td>\n",
       "      <td>1</td>\n",
       "      <td>191.27</td>\n",
       "      <td>0.00</td>\n",
       "      <td>AZ</td>\n",
       "      <td>191.2700</td>\n",
       "    </tr>\n",
       "  </tbody>\n",
       "</table>\n",
       "</div>"
      ],
      "text/plain": [
       "   Customer_ID      Order_ID  Order_Date Product_Category  \\\n",
       "0  CUST_013738  ORD_00102406  2023-01-01    Home & Garden   \n",
       "1  CUST_011726  ORD_00102902  2023-01-01      Electronics   \n",
       "2  CUST_010891  ORD_00103864  2023-01-01      Electronics   \n",
       "3  CUST_011452  ORD_00103560  2023-01-01      Electronics   \n",
       "4  CUST_010886  ORD_00100632  2023-01-02      Electronics   \n",
       "\n",
       "  Product_Sub_Category  Quantity    Price  Discount Customer_Location  \\\n",
       "0      Gardening Tools         1   419.19      0.00                TN   \n",
       "1              Laptops         1   222.37      0.09                TN   \n",
       "2              Laptops         6  1107.65      0.00                IN   \n",
       "3      Gaming Consoles         5   288.84      0.00                MA   \n",
       "4           Headphones         1   191.27      0.00                AZ   \n",
       "\n",
       "     Revenue  \n",
       "0   419.1900  \n",
       "1   202.3567  \n",
       "2  6645.9000  \n",
       "3  1444.2000  \n",
       "4   191.2700  "
      ]
     },
     "execution_count": 36,
     "metadata": {},
     "output_type": "execute_result"
    }
   ],
   "source": [
    "# Extracting data from csv file\n",
    "df = pd.read_csv(r\"data\\globex_retail_data.csv\")\n",
    "\n",
    "# Checking the first 5 rows\n",
    "df.head(5)"
   ]
  },
  {
   "cell_type": "code",
   "execution_count": 5,
   "id": "69079973",
   "metadata": {},
   "outputs": [
    {
     "data": {
      "text/plain": [
       "(5000, 10)"
      ]
     },
     "execution_count": 5,
     "metadata": {},
     "output_type": "execute_result"
    }
   ],
   "source": [
    "# Determine the number of rows and columns in the dataframe\n",
    "df.shape"
   ]
  },
  {
   "cell_type": "code",
   "execution_count": 6,
   "id": "fd90f5e8",
   "metadata": {},
   "outputs": [
    {
     "name": "stdout",
     "output_type": "stream",
     "text": [
      "<class 'pandas.core.frame.DataFrame'>\n",
      "RangeIndex: 5000 entries, 0 to 4999\n",
      "Data columns (total 10 columns):\n",
      " #   Column                Non-Null Count  Dtype  \n",
      "---  ------                --------------  -----  \n",
      " 0   Customer_ID           5000 non-null   object \n",
      " 1   Order_ID              5000 non-null   object \n",
      " 2   Order_Date            5000 non-null   object \n",
      " 3   Product_Category      5000 non-null   object \n",
      " 4   Product_Sub_Category  5000 non-null   object \n",
      " 5   Quantity              5000 non-null   int64  \n",
      " 6   Price                 5000 non-null   float64\n",
      " 7   Discount              5000 non-null   float64\n",
      " 8   Customer_Location     5000 non-null   object \n",
      " 9   Revenue               5000 non-null   float64\n",
      "dtypes: float64(3), int64(1), object(6)\n",
      "memory usage: 390.8+ KB\n"
     ]
    }
   ],
   "source": [
    "# Column names, null count and data type\n",
    "df.info()"
   ]
  },
  {
   "cell_type": "markdown",
   "id": "88375950",
   "metadata": {},
   "source": [
    "### Data Quality Assessment"
   ]
  },
  {
   "cell_type": "markdown",
   "id": "dc2bc8b1",
   "metadata": {},
   "source": [
    "##### Completeness - checking for null values"
   ]
  },
  {
   "cell_type": "code",
   "execution_count": 7,
   "id": "4f4f704e",
   "metadata": {},
   "outputs": [
    {
     "data": {
      "text/plain": [
       "Customer_ID             0\n",
       "Order_ID                0\n",
       "Order_Date              0\n",
       "Product_Category        0\n",
       "Product_Sub_Category    0\n",
       "Quantity                0\n",
       "Price                   0\n",
       "Discount                0\n",
       "Customer_Location       0\n",
       "Revenue                 0\n",
       "dtype: int64"
      ]
     },
     "execution_count": 7,
     "metadata": {},
     "output_type": "execute_result"
    }
   ],
   "source": [
    "# checking for null values in the data\n",
    "df.isnull().sum()"
   ]
  },
  {
   "cell_type": "markdown",
   "id": "e5112b0b",
   "metadata": {},
   "source": [
    "##### Uniqueness - checking for duplicates"
   ]
  },
  {
   "cell_type": "code",
   "execution_count": 9,
   "id": "7a11d6fb",
   "metadata": {},
   "outputs": [
    {
     "data": {
      "text/plain": [
       "np.int64(0)"
      ]
     },
     "execution_count": 9,
     "metadata": {},
     "output_type": "execute_result"
    }
   ],
   "source": [
    "df.duplicated().sum() # no duplicate values reported"
   ]
  },
  {
   "cell_type": "code",
   "execution_count": 10,
   "id": "366a3574",
   "metadata": {},
   "outputs": [
    {
     "data": {
      "text/plain": [
       "3203"
      ]
     },
     "execution_count": 10,
     "metadata": {},
     "output_type": "execute_result"
    }
   ],
   "source": [
    "# to check the number of unique values in the customer ID\n",
    "\n",
    "df['Customer_ID'].nunique()\n"
   ]
  },
  {
   "cell_type": "code",
   "execution_count": 11,
   "id": "3ff83517",
   "metadata": {},
   "outputs": [
    {
     "data": {
      "text/plain": [
       "5000"
      ]
     },
     "execution_count": 11,
     "metadata": {},
     "output_type": "execute_result"
    }
   ],
   "source": [
    "# to check the number of unique values in the customer ID\n",
    "\n",
    "df['Order_ID'].nunique()"
   ]
  },
  {
   "cell_type": "markdown",
   "id": "297f5fa6",
   "metadata": {},
   "source": [
    "##### Inconsistency - checking for the values in each column"
   ]
  },
  {
   "cell_type": "code",
   "execution_count": 12,
   "id": "34cb47dc",
   "metadata": {},
   "outputs": [
    {
     "data": {
      "text/html": [
       "<div>\n",
       "<style scoped>\n",
       "    .dataframe tbody tr th:only-of-type {\n",
       "        vertical-align: middle;\n",
       "    }\n",
       "\n",
       "    .dataframe tbody tr th {\n",
       "        vertical-align: top;\n",
       "    }\n",
       "\n",
       "    .dataframe thead th {\n",
       "        text-align: right;\n",
       "    }\n",
       "</style>\n",
       "<table border=\"1\" class=\"dataframe\">\n",
       "  <thead>\n",
       "    <tr style=\"text-align: right;\">\n",
       "      <th></th>\n",
       "      <th>Quantity</th>\n",
       "      <th>Price</th>\n",
       "      <th>Discount</th>\n",
       "      <th>Revenue</th>\n",
       "    </tr>\n",
       "  </thead>\n",
       "  <tbody>\n",
       "    <tr>\n",
       "      <th>count</th>\n",
       "      <td>5000.000000</td>\n",
       "      <td>5000.000000</td>\n",
       "      <td>5000.000000</td>\n",
       "      <td>5000.000000</td>\n",
       "    </tr>\n",
       "    <tr>\n",
       "      <th>mean</th>\n",
       "      <td>2.368800</td>\n",
       "      <td>330.240118</td>\n",
       "      <td>0.063534</td>\n",
       "      <td>743.955115</td>\n",
       "    </tr>\n",
       "    <tr>\n",
       "      <th>std</th>\n",
       "      <td>1.704631</td>\n",
       "      <td>427.081790</td>\n",
       "      <td>0.118311</td>\n",
       "      <td>1328.413944</td>\n",
       "    </tr>\n",
       "    <tr>\n",
       "      <th>min</th>\n",
       "      <td>1.000000</td>\n",
       "      <td>8.000000</td>\n",
       "      <td>0.000000</td>\n",
       "      <td>6.164400</td>\n",
       "    </tr>\n",
       "    <tr>\n",
       "      <th>25%</th>\n",
       "      <td>1.000000</td>\n",
       "      <td>54.017500</td>\n",
       "      <td>0.000000</td>\n",
       "      <td>94.601000</td>\n",
       "    </tr>\n",
       "    <tr>\n",
       "      <th>50%</th>\n",
       "      <td>2.000000</td>\n",
       "      <td>149.770000</td>\n",
       "      <td>0.000000</td>\n",
       "      <td>264.530250</td>\n",
       "    </tr>\n",
       "    <tr>\n",
       "      <th>75%</th>\n",
       "      <td>3.000000</td>\n",
       "      <td>415.087500</td>\n",
       "      <td>0.090000</td>\n",
       "      <td>767.867500</td>\n",
       "    </tr>\n",
       "    <tr>\n",
       "      <th>max</th>\n",
       "      <td>10.000000</td>\n",
       "      <td>1997.860000</td>\n",
       "      <td>0.500000</td>\n",
       "      <td>13819.840000</td>\n",
       "    </tr>\n",
       "  </tbody>\n",
       "</table>\n",
       "</div>"
      ],
      "text/plain": [
       "          Quantity        Price     Discount       Revenue\n",
       "count  5000.000000  5000.000000  5000.000000   5000.000000\n",
       "mean      2.368800   330.240118     0.063534    743.955115\n",
       "std       1.704631   427.081790     0.118311   1328.413944\n",
       "min       1.000000     8.000000     0.000000      6.164400\n",
       "25%       1.000000    54.017500     0.000000     94.601000\n",
       "50%       2.000000   149.770000     0.000000    264.530250\n",
       "75%       3.000000   415.087500     0.090000    767.867500\n",
       "max      10.000000  1997.860000     0.500000  13819.840000"
      ]
     },
     "execution_count": 12,
     "metadata": {},
     "output_type": "execute_result"
    }
   ],
   "source": [
    "# show summary statistics for numerical columns to see the min, max and mean values\n",
    "df.describe()"
   ]
  },
  {
   "cell_type": "code",
   "execution_count": null,
   "id": "176969ec",
   "metadata": {},
   "outputs": [
    {
     "data": {
      "text/plain": [
       "Product_Category\n",
       "Home & Garden    768\n",
       "Beauty           821\n",
       "Sports           826\n",
       "Clothing         832\n",
       "Books            871\n",
       "Electronics      882\n",
       "Name: count, dtype: int64"
      ]
     },
     "execution_count": 17,
     "metadata": {},
     "output_type": "execute_result"
    }
   ],
   "source": [
    "# check for values in the category column to ensure consistency\n",
    "df.Product_Category.value_counts().sort_values(ascending=True)"
   ]
  },
  {
   "cell_type": "code",
   "execution_count": 18,
   "id": "81b58e84",
   "metadata": {},
   "outputs": [
    {
     "data": {
      "text/plain": [
       "Product_Sub_Category\n",
       "Kitchen Appliances    120\n",
       "Makeup                121\n",
       "Bedding               125\n",
       "Storage               125\n",
       "Outdoor Gear          127\n",
       "Furniture             130\n",
       "Shoes                 130\n",
       "Headphones            132\n",
       "Home Decor            132\n",
       "Hair Care             133\n",
       "Jeans                 133\n",
       "Team Sports           133\n",
       "Accessories           134\n",
       "Educational           135\n",
       "Laptops               136\n",
       "Gardening Tools       136\n",
       "Water Sports          136\n",
       "Mens Shirts           136\n",
       "Personal Care         137\n",
       "Skincare              139\n",
       "Magazines             139\n",
       "Comics                139\n",
       "Fitness Equipment     142\n",
       "Fragrances            142\n",
       "Winter Sports         143\n",
       "Cycling               145\n",
       "Children Books        146\n",
       "Sportswear            148\n",
       "Smartphones           148\n",
       "Beauty Tools          149\n",
       "Tablets               150\n",
       "Womens Dresses        151\n",
       "Non-Fiction           153\n",
       "Smart Watches         156\n",
       "Fiction               159\n",
       "Gaming Consoles       160\n",
       "Name: count, dtype: int64"
      ]
     },
     "execution_count": 18,
     "metadata": {},
     "output_type": "execute_result"
    }
   ],
   "source": [
    "# check for values in the sub_category column to ensure consistency\n",
    "df.Product_Sub_Category.value_counts().sort_values(ascending=True)"
   ]
  },
  {
   "cell_type": "code",
   "execution_count": null,
   "id": "15179233",
   "metadata": {},
   "outputs": [
    {
     "data": {
      "text/plain": [
       "Customer_Location\n",
       "2    5000\n",
       "Name: count, dtype: int64"
      ]
     },
     "execution_count": 20,
     "metadata": {},
     "output_type": "execute_result"
    }
   ],
   "source": [
    "# Check to ensure each customer location is in a two-letter format\n",
    "location_lenght = df['Customer_Location'].str.len()\n",
    "location_lenght.value_counts()"
   ]
  },
  {
   "cell_type": "markdown",
   "id": "9839c4c2",
   "metadata": {},
   "source": [
    "### Data Cleaning/Transformation"
   ]
  },
  {
   "cell_type": "code",
   "execution_count": 22,
   "id": "2ff1a2af",
   "metadata": {},
   "outputs": [],
   "source": [
    "# Create a copy of the dataset to preserve an original source of truth for reference.\n",
    "df_clean = df.copy()"
   ]
  },
  {
   "cell_type": "code",
   "execution_count": 23,
   "id": "2ef49bb4",
   "metadata": {},
   "outputs": [],
   "source": [
    "# Changing the date to the correct format\n",
    "df_clean['Order_Date'] = pd.to_datetime(df_clean['Order_Date'])"
   ]
  },
  {
   "cell_type": "code",
   "execution_count": 24,
   "id": "5ba5f4e3",
   "metadata": {},
   "outputs": [
    {
     "name": "stdout",
     "output_type": "stream",
     "text": [
      "<class 'pandas.core.frame.DataFrame'>\n",
      "RangeIndex: 5000 entries, 0 to 4999\n",
      "Data columns (total 10 columns):\n",
      " #   Column                Non-Null Count  Dtype         \n",
      "---  ------                --------------  -----         \n",
      " 0   Customer_ID           5000 non-null   object        \n",
      " 1   Order_ID              5000 non-null   object        \n",
      " 2   Order_Date            5000 non-null   datetime64[ns]\n",
      " 3   Product_Category      5000 non-null   object        \n",
      " 4   Product_Sub_Category  5000 non-null   object        \n",
      " 5   Quantity              5000 non-null   int64         \n",
      " 6   Price                 5000 non-null   float64       \n",
      " 7   Discount              5000 non-null   float64       \n",
      " 8   Customer_Location     5000 non-null   object        \n",
      " 9   Revenue               5000 non-null   float64       \n",
      "dtypes: datetime64[ns](1), float64(3), int64(1), object(5)\n",
      "memory usage: 390.8+ KB\n"
     ]
    }
   ],
   "source": [
    "df_clean.info()"
   ]
  },
  {
   "cell_type": "markdown",
   "id": "65f484f0",
   "metadata": {},
   "source": [
    "### Data Validation (Business)"
   ]
  },
  {
   "cell_type": "markdown",
   "id": "411f9a38",
   "metadata": {},
   "source": [
    "Field-level checks\n",
    "(valid ranges, allowed values, data types).\n",
    "\n",
    "Cross-field validation\n",
    "(if Order_ID is not null , then Order Date must not be null).\n",
    "\n",
    "Aggregate validation\n",
    "(Numerical columns like quantity, price and total sales must be above 0. Revenue==Total sales based on the data).\n",
    "\n",
    "Business rule consistency\n",
    "(discounts cannot exceed 50% without approval flag)."
   ]
  },
  {
   "cell_type": "code",
   "execution_count": null,
   "id": "9b5857b0",
   "metadata": {},
   "outputs": [
    {
     "data": {
      "text/html": [
       "<div>\n",
       "<style scoped>\n",
       "    .dataframe tbody tr th:only-of-type {\n",
       "        vertical-align: middle;\n",
       "    }\n",
       "\n",
       "    .dataframe tbody tr th {\n",
       "        vertical-align: top;\n",
       "    }\n",
       "\n",
       "    .dataframe thead th {\n",
       "        text-align: right;\n",
       "    }\n",
       "</style>\n",
       "<table border=\"1\" class=\"dataframe\">\n",
       "  <thead>\n",
       "    <tr style=\"text-align: right;\">\n",
       "      <th></th>\n",
       "      <th>Order_Date</th>\n",
       "      <th>Quantity</th>\n",
       "      <th>Price</th>\n",
       "      <th>Discount</th>\n",
       "      <th>Revenue</th>\n",
       "    </tr>\n",
       "  </thead>\n",
       "  <tbody>\n",
       "    <tr>\n",
       "      <th>count</th>\n",
       "      <td>5000</td>\n",
       "      <td>5000.000000</td>\n",
       "      <td>5000.000000</td>\n",
       "      <td>5000.000000</td>\n",
       "      <td>5000.000000</td>\n",
       "    </tr>\n",
       "    <tr>\n",
       "      <th>mean</th>\n",
       "      <td>2023-12-30 16:11:42.719999744</td>\n",
       "      <td>2.368800</td>\n",
       "      <td>330.240118</td>\n",
       "      <td>0.063534</td>\n",
       "      <td>743.955115</td>\n",
       "    </tr>\n",
       "    <tr>\n",
       "      <th>min</th>\n",
       "      <td>2023-01-01 00:00:00</td>\n",
       "      <td>1.000000</td>\n",
       "      <td>8.000000</td>\n",
       "      <td>0.000000</td>\n",
       "      <td>6.164400</td>\n",
       "    </tr>\n",
       "    <tr>\n",
       "      <th>25%</th>\n",
       "      <td>2023-07-04 18:00:00</td>\n",
       "      <td>1.000000</td>\n",
       "      <td>54.017500</td>\n",
       "      <td>0.000000</td>\n",
       "      <td>94.601000</td>\n",
       "    </tr>\n",
       "    <tr>\n",
       "      <th>50%</th>\n",
       "      <td>2024-01-02 12:00:00</td>\n",
       "      <td>2.000000</td>\n",
       "      <td>149.770000</td>\n",
       "      <td>0.000000</td>\n",
       "      <td>264.530250</td>\n",
       "    </tr>\n",
       "    <tr>\n",
       "      <th>75%</th>\n",
       "      <td>2024-06-23 00:00:00</td>\n",
       "      <td>3.000000</td>\n",
       "      <td>415.087500</td>\n",
       "      <td>0.090000</td>\n",
       "      <td>767.867500</td>\n",
       "    </tr>\n",
       "    <tr>\n",
       "      <th>max</th>\n",
       "      <td>2024-12-31 00:00:00</td>\n",
       "      <td>10.000000</td>\n",
       "      <td>1997.860000</td>\n",
       "      <td>0.500000</td>\n",
       "      <td>13819.840000</td>\n",
       "    </tr>\n",
       "    <tr>\n",
       "      <th>std</th>\n",
       "      <td>NaN</td>\n",
       "      <td>1.704631</td>\n",
       "      <td>427.081790</td>\n",
       "      <td>0.118311</td>\n",
       "      <td>1328.413944</td>\n",
       "    </tr>\n",
       "  </tbody>\n",
       "</table>\n",
       "</div>"
      ],
      "text/plain": [
       "                          Order_Date     Quantity        Price     Discount  \\\n",
       "count                           5000  5000.000000  5000.000000  5000.000000   \n",
       "mean   2023-12-30 16:11:42.719999744     2.368800   330.240118     0.063534   \n",
       "min              2023-01-01 00:00:00     1.000000     8.000000     0.000000   \n",
       "25%              2023-07-04 18:00:00     1.000000    54.017500     0.000000   \n",
       "50%              2024-01-02 12:00:00     2.000000   149.770000     0.000000   \n",
       "75%              2024-06-23 00:00:00     3.000000   415.087500     0.090000   \n",
       "max              2024-12-31 00:00:00    10.000000  1997.860000     0.500000   \n",
       "std                              NaN     1.704631   427.081790     0.118311   \n",
       "\n",
       "            Revenue  \n",
       "count   5000.000000  \n",
       "mean     743.955115  \n",
       "min        6.164400  \n",
       "25%       94.601000  \n",
       "50%      264.530250  \n",
       "75%      767.867500  \n",
       "max    13819.840000  \n",
       "std     1328.413944  "
      ]
     },
     "execution_count": 29,
     "metadata": {},
     "output_type": "execute_result"
    }
   ],
   "source": [
    "# field-level checks for numerical columns. Aggregrate validation shows price and quantity are above 0.\n",
    "df_clean.describe()"
   ]
  },
  {
   "cell_type": "code",
   "execution_count": 30,
   "id": "42f04358",
   "metadata": {},
   "outputs": [
    {
     "data": {
      "text/html": [
       "<div>\n",
       "<style scoped>\n",
       "    .dataframe tbody tr th:only-of-type {\n",
       "        vertical-align: middle;\n",
       "    }\n",
       "\n",
       "    .dataframe tbody tr th {\n",
       "        vertical-align: top;\n",
       "    }\n",
       "\n",
       "    .dataframe thead th {\n",
       "        text-align: right;\n",
       "    }\n",
       "</style>\n",
       "<table border=\"1\" class=\"dataframe\">\n",
       "  <thead>\n",
       "    <tr style=\"text-align: right;\">\n",
       "      <th></th>\n",
       "      <th>Customer_ID</th>\n",
       "      <th>Order_ID</th>\n",
       "      <th>Product_Category</th>\n",
       "      <th>Product_Sub_Category</th>\n",
       "      <th>Customer_Location</th>\n",
       "    </tr>\n",
       "  </thead>\n",
       "  <tbody>\n",
       "    <tr>\n",
       "      <th>count</th>\n",
       "      <td>5000</td>\n",
       "      <td>5000</td>\n",
       "      <td>5000</td>\n",
       "      <td>5000</td>\n",
       "      <td>5000</td>\n",
       "    </tr>\n",
       "    <tr>\n",
       "      <th>unique</th>\n",
       "      <td>3203</td>\n",
       "      <td>5000</td>\n",
       "      <td>6</td>\n",
       "      <td>36</td>\n",
       "      <td>30</td>\n",
       "    </tr>\n",
       "    <tr>\n",
       "      <th>top</th>\n",
       "      <td>CUST_013392</td>\n",
       "      <td>ORD_00102406</td>\n",
       "      <td>Electronics</td>\n",
       "      <td>Gaming Consoles</td>\n",
       "      <td>IL</td>\n",
       "    </tr>\n",
       "    <tr>\n",
       "      <th>freq</th>\n",
       "      <td>6</td>\n",
       "      <td>1</td>\n",
       "      <td>882</td>\n",
       "      <td>160</td>\n",
       "      <td>191</td>\n",
       "    </tr>\n",
       "  </tbody>\n",
       "</table>\n",
       "</div>"
      ],
      "text/plain": [
       "        Customer_ID      Order_ID Product_Category Product_Sub_Category  \\\n",
       "count          5000          5000             5000                 5000   \n",
       "unique         3203          5000                6                   36   \n",
       "top     CUST_013392  ORD_00102406      Electronics      Gaming Consoles   \n",
       "freq              6             1              882                  160   \n",
       "\n",
       "       Customer_Location  \n",
       "count               5000  \n",
       "unique                30  \n",
       "top                   IL  \n",
       "freq                 191  "
      ]
     },
     "execution_count": 30,
     "metadata": {},
     "output_type": "execute_result"
    }
   ],
   "source": [
    "# field-level check for  non-numeical columns\n",
    "df_clean.describe(include=['object'])"
   ]
  },
  {
   "cell_type": "code",
   "execution_count": 45,
   "id": "9add147d",
   "metadata": {},
   "outputs": [
    {
     "name": "stdout",
     "output_type": "stream",
     "text": [
      "Number of mismatches: 1688\n"
     ]
    }
   ],
   "source": [
    "# Based on business requirement. revenue should equal total sales. Checking that both values match, and if not, how many mismtaches\n",
    "mismatch_count = (df_clean['Revenue'] != df_clean['Quantity'] * df_clean['Price']).sum()\n",
    "print(f\"Number of mismatches: {mismatch_count}\")\n"
   ]
  },
  {
   "cell_type": "code",
   "execution_count": 49,
   "id": "06cd5972",
   "metadata": {},
   "outputs": [
    {
     "data": {
      "text/plain": [
       "np.int64(0)"
      ]
     },
     "execution_count": 49,
     "metadata": {},
     "output_type": "execute_result"
    }
   ],
   "source": [
    "# To validate the business rule consistency of no discount above 50%\n",
    "(df_clean['Discount'] > 0.5).sum()"
   ]
  },
  {
   "cell_type": "markdown",
   "id": "bc309c45",
   "metadata": {},
   "source": [
    "### Feature Engineering"
   ]
  },
  {
   "cell_type": "code",
   "execution_count": null,
   "id": "b42db54b",
   "metadata": {},
   "outputs": [],
   "source": []
  },
  {
   "cell_type": "code",
   "execution_count": null,
   "id": "02bb14fe",
   "metadata": {},
   "outputs": [],
   "source": []
  },
  {
   "cell_type": "markdown",
   "id": "98b7b64a",
   "metadata": {},
   "source": [
    "### Data Modeling"
   ]
  },
  {
   "cell_type": "code",
   "execution_count": 57,
   "id": "fb03dae9",
   "metadata": {},
   "outputs": [
    {
     "data": {
      "text/html": [
       "<div>\n",
       "<style scoped>\n",
       "    .dataframe tbody tr th:only-of-type {\n",
       "        vertical-align: middle;\n",
       "    }\n",
       "\n",
       "    .dataframe tbody tr th {\n",
       "        vertical-align: top;\n",
       "    }\n",
       "\n",
       "    .dataframe thead th {\n",
       "        text-align: right;\n",
       "    }\n",
       "</style>\n",
       "<table border=\"1\" class=\"dataframe\">\n",
       "  <thead>\n",
       "    <tr style=\"text-align: right;\">\n",
       "      <th></th>\n",
       "      <th>Customer_ID</th>\n",
       "      <th>Customer_Location</th>\n",
       "    </tr>\n",
       "  </thead>\n",
       "  <tbody>\n",
       "    <tr>\n",
       "      <th>0</th>\n",
       "      <td>CUST_013738</td>\n",
       "      <td>TN</td>\n",
       "    </tr>\n",
       "    <tr>\n",
       "      <th>1</th>\n",
       "      <td>CUST_011726</td>\n",
       "      <td>TN</td>\n",
       "    </tr>\n",
       "    <tr>\n",
       "      <th>2</th>\n",
       "      <td>CUST_010891</td>\n",
       "      <td>IN</td>\n",
       "    </tr>\n",
       "    <tr>\n",
       "      <th>3</th>\n",
       "      <td>CUST_011452</td>\n",
       "      <td>MA</td>\n",
       "    </tr>\n",
       "    <tr>\n",
       "      <th>4</th>\n",
       "      <td>CUST_010886</td>\n",
       "      <td>AZ</td>\n",
       "    </tr>\n",
       "  </tbody>\n",
       "</table>\n",
       "</div>"
      ],
      "text/plain": [
       "   Customer_ID Customer_Location\n",
       "0  CUST_013738                TN\n",
       "1  CUST_011726                TN\n",
       "2  CUST_010891                IN\n",
       "3  CUST_011452                MA\n",
       "4  CUST_010886                AZ"
      ]
     },
     "execution_count": 57,
     "metadata": {},
     "output_type": "execute_result"
    }
   ],
   "source": [
    "# Customer dimension\n",
    "\n",
    "customer = df_clean[['Customer_ID','Customer_Location']].copy().drop_duplicates().reset_index(drop=True)\n",
    "customer.head()"
   ]
  },
  {
   "cell_type": "code",
   "execution_count": 58,
   "id": "35059d0b",
   "metadata": {},
   "outputs": [
    {
     "data": {
      "text/html": [
       "<div>\n",
       "<style scoped>\n",
       "    .dataframe tbody tr th:only-of-type {\n",
       "        vertical-align: middle;\n",
       "    }\n",
       "\n",
       "    .dataframe tbody tr th {\n",
       "        vertical-align: top;\n",
       "    }\n",
       "\n",
       "    .dataframe thead th {\n",
       "        text-align: right;\n",
       "    }\n",
       "</style>\n",
       "<table border=\"1\" class=\"dataframe\">\n",
       "  <thead>\n",
       "    <tr style=\"text-align: right;\">\n",
       "      <th></th>\n",
       "      <th>Order_ID</th>\n",
       "      <th>Order_Date</th>\n",
       "    </tr>\n",
       "  </thead>\n",
       "  <tbody>\n",
       "    <tr>\n",
       "      <th>0</th>\n",
       "      <td>ORD_00102406</td>\n",
       "      <td>2023-01-01</td>\n",
       "    </tr>\n",
       "    <tr>\n",
       "      <th>1</th>\n",
       "      <td>ORD_00102902</td>\n",
       "      <td>2023-01-01</td>\n",
       "    </tr>\n",
       "    <tr>\n",
       "      <th>2</th>\n",
       "      <td>ORD_00103864</td>\n",
       "      <td>2023-01-01</td>\n",
       "    </tr>\n",
       "    <tr>\n",
       "      <th>3</th>\n",
       "      <td>ORD_00103560</td>\n",
       "      <td>2023-01-01</td>\n",
       "    </tr>\n",
       "    <tr>\n",
       "      <th>4</th>\n",
       "      <td>ORD_00100632</td>\n",
       "      <td>2023-01-02</td>\n",
       "    </tr>\n",
       "  </tbody>\n",
       "</table>\n",
       "</div>"
      ],
      "text/plain": [
       "       Order_ID Order_Date\n",
       "0  ORD_00102406 2023-01-01\n",
       "1  ORD_00102902 2023-01-01\n",
       "2  ORD_00103864 2023-01-01\n",
       "3  ORD_00103560 2023-01-01\n",
       "4  ORD_00100632 2023-01-02"
      ]
     },
     "execution_count": 58,
     "metadata": {},
     "output_type": "execute_result"
    }
   ],
   "source": [
    "# Order dimension\n",
    "\n",
    "order = df_clean[['Order_ID','Order_Date']].copy().drop_duplicates().reset_index(drop=True)\n",
    "order.head()"
   ]
  },
  {
   "cell_type": "code",
   "execution_count": null,
   "id": "e30d839c",
   "metadata": {},
   "outputs": [
    {
     "data": {
      "text/html": [
       "<div>\n",
       "<style scoped>\n",
       "    .dataframe tbody tr th:only-of-type {\n",
       "        vertical-align: middle;\n",
       "    }\n",
       "\n",
       "    .dataframe tbody tr th {\n",
       "        vertical-align: top;\n",
       "    }\n",
       "\n",
       "    .dataframe thead th {\n",
       "        text-align: right;\n",
       "    }\n",
       "</style>\n",
       "<table border=\"1\" class=\"dataframe\">\n",
       "  <thead>\n",
       "    <tr style=\"text-align: right;\">\n",
       "      <th></th>\n",
       "      <th>Product_ID</th>\n",
       "      <th>Product_Category</th>\n",
       "      <th>Product_Sub_Category</th>\n",
       "    </tr>\n",
       "  </thead>\n",
       "  <tbody>\n",
       "    <tr>\n",
       "      <th>0</th>\n",
       "      <td>0</td>\n",
       "      <td>Home &amp; Garden</td>\n",
       "      <td>Gardening Tools</td>\n",
       "    </tr>\n",
       "    <tr>\n",
       "      <th>1</th>\n",
       "      <td>1</td>\n",
       "      <td>Electronics</td>\n",
       "      <td>Laptops</td>\n",
       "    </tr>\n",
       "    <tr>\n",
       "      <th>2</th>\n",
       "      <td>2</td>\n",
       "      <td>Electronics</td>\n",
       "      <td>Gaming Consoles</td>\n",
       "    </tr>\n",
       "    <tr>\n",
       "      <th>3</th>\n",
       "      <td>3</td>\n",
       "      <td>Electronics</td>\n",
       "      <td>Headphones</td>\n",
       "    </tr>\n",
       "    <tr>\n",
       "      <th>4</th>\n",
       "      <td>4</td>\n",
       "      <td>Clothing</td>\n",
       "      <td>Shoes</td>\n",
       "    </tr>\n",
       "  </tbody>\n",
       "</table>\n",
       "</div>"
      ],
      "text/plain": [
       "   Product_ID Product_Category Product_Sub_Category\n",
       "0           0    Home & Garden      Gardening Tools\n",
       "1           1      Electronics              Laptops\n",
       "2           2      Electronics      Gaming Consoles\n",
       "3           3      Electronics           Headphones\n",
       "4           4         Clothing                Shoes"
      ]
     },
     "execution_count": 63,
     "metadata": {},
     "output_type": "execute_result"
    }
   ],
   "source": [
    "# Product dimension\n",
    "\n",
    "product = df_clean[['Product_Category','Product_Sub_Category']].copy().drop_duplicates().reset_index(drop=True)\n",
    "\n",
    "# Creating a PK column for the product table by changing the index name and thereafter resetting it.\n",
    "product.index.name = 'Product_ID'\n",
    "product = product.reset_index()\n",
    "\n",
    "product.head()"
   ]
  },
  {
   "cell_type": "code",
   "execution_count": null,
   "id": "29d7278f",
   "metadata": {},
   "outputs": [],
   "source": [
    "# facts table\n",
    "\n",
    "facts_table = "
   ]
  }
 ],
 "metadata": {
  "kernelspec": {
   "display_name": "Python 3",
   "language": "python",
   "name": "python3"
  },
  "language_info": {
   "codemirror_mode": {
    "name": "ipython",
    "version": 3
   },
   "file_extension": ".py",
   "mimetype": "text/x-python",
   "name": "python",
   "nbconvert_exporter": "python",
   "pygments_lexer": "ipython3",
   "version": "3.11.0"
  }
 },
 "nbformat": 4,
 "nbformat_minor": 5
}
